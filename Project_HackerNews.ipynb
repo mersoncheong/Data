{
 "cells": [
  {
   "cell_type": "markdown",
   "metadata": {
    "collapsed": true
   },
   "source": [
    "# Exploring Hacker News Post\n",
    "\n",
    "In this project, we will explore news posts on the website _Hacker News_. \n",
    "\n",
    "_Hacker News_ is a site similar to reddit where user-submitted stories are voted and commented upon. It is extremely popular in technology and startup circles, inviting hundreds of thousands of visitors. \n",
    "\n",
    "In our [data set](https://www.kaggle.com/hacker-news/hacker-news-posts), the number of rows has been reduced by removing all submissions that did not receive any comments, and then using a randomly sample from the remaining submissions. Clearer descriptions of the data set can be found in the link above.\n",
    "\n",
    "We are specifically interested in posts with titles that begin with ask `Ask HN` or `Show HN`. This stands for users submitting posts to ask the community a specific question or users showing the community a project, product or generally something interesting.\n",
    "\n",
    "The aim of our project is to determine the following:\n",
    "- Does `Ask HN` or `Show HN` receive more comments on average?\n",
    "- Do posts created a certain time receive more comments on average?"
   ]
  },
  {
   "cell_type": "markdown",
   "metadata": {},
   "source": [
    "## Introduction\n",
    "\n",
    "Firstly, we will begin by reading the data set needed for this project"
   ]
  },
  {
   "cell_type": "code",
   "execution_count": 1,
   "metadata": {},
   "outputs": [
    {
     "name": "stdout",
     "output_type": "stream",
     "text": [
      "[['id', 'title', 'url', 'num_points', 'num_comments', 'author', 'created_at'], ['12224879', 'Interactive Dynamic Video', 'http://www.interactivedynamicvideo.com/', '386', '52', 'ne0phyte', '8/4/2016 11:52'], ['10975351', 'How to Use Open Source and Shut the Fuck Up at the Same Time', 'http://hueniverse.com/2016/01/26/how-to-use-open-source-and-shut-the-fuck-up-at-the-same-time/', '39', '10', 'josep2', '1/26/2016 19:30'], ['11964716', \"Florida DJs May Face Felony for April Fools' Water Joke\", 'http://www.thewire.com/entertainment/2013/04/florida-djs-april-fools-water-joke/63798/', '2', '1', 'vezycash', '6/23/2016 22:20'], ['11919867', 'Technology ventures: From Idea to Enterprise', 'https://www.amazon.com/Technology-Ventures-Enterprise-Thomas-Byers/dp/0073523429', '3', '1', 'hswarna', '6/17/2016 0:01']]\n"
     ]
    }
   ],
   "source": [
    "# Import csv to open the file\n",
    "from csv import reader\n",
    "\n",
    "opened_file = open('hacker_news.csv')\n",
    "read_file = reader(opened_file)\n",
    "\n",
    "# Convert file into a list of lists\n",
    "hn = list(read_file)\n",
    "\n",
    "# Display the first five rows of hn\n",
    "\n",
    "print(hn[:5])"
   ]
  },
  {
   "cell_type": "markdown",
   "metadata": {},
   "source": [
    "### Remove headers from data set"
   ]
  },
  {
   "cell_type": "code",
   "execution_count": 2,
   "metadata": {},
   "outputs": [
    {
     "name": "stdout",
     "output_type": "stream",
     "text": [
      "['id', 'title', 'url', 'num_points', 'num_comments', 'author', 'created_at']\n",
      "\n",
      "\n",
      "[['12224879', 'Interactive Dynamic Video', 'http://www.interactivedynamicvideo.com/', '386', '52', 'ne0phyte', '8/4/2016 11:52'], ['10975351', 'How to Use Open Source and Shut the Fuck Up at the Same Time', 'http://hueniverse.com/2016/01/26/how-to-use-open-source-and-shut-the-fuck-up-at-the-same-time/', '39', '10', 'josep2', '1/26/2016 19:30'], ['11964716', \"Florida DJs May Face Felony for April Fools' Water Joke\", 'http://www.thewire.com/entertainment/2013/04/florida-djs-april-fools-water-joke/63798/', '2', '1', 'vezycash', '6/23/2016 22:20'], ['11919867', 'Technology ventures: From Idea to Enterprise', 'https://www.amazon.com/Technology-Ventures-Enterprise-Thomas-Byers/dp/0073523429', '3', '1', 'hswarna', '6/17/2016 0:01'], ['10301696', 'Note by Note: The Making of Steinway L1037 (2007)', 'http://www.nytimes.com/2007/11/07/movies/07stein.html?_r=0', '8', '2', 'walterbell', '9/30/2015 4:12']]\n"
     ]
    }
   ],
   "source": [
    "# Extract data to variable headers\n",
    "headers = hn[0]\n",
    "hn = hn[1:]\n",
    "\n",
    "# Display Headers\n",
    "print(headers)\n",
    "print('\\n')\n",
    "\n",
    "# Display the first five rows of hn\n",
    "print(hn[:5])\n"
   ]
  },
  {
   "cell_type": "markdown",
   "metadata": {},
   "source": [
    "### Extracting Ask HN and Show HN Posts\n",
    "\n",
    "We are only interested in `Ask HN` and `Show HN` posts, hence we will extract these posts from the data set. I will utilise the string method `startswith` which returns a Boolean that shows if a the string starts with the input given. As the capitalization matters when utilizing the string method, it is important that we make the string of common capitalization before using the method."
   ]
  },
  {
   "cell_type": "code",
   "execution_count": 3,
   "metadata": {},
   "outputs": [
    {
     "name": "stdout",
     "output_type": "stream",
     "text": [
      "1744\n",
      "1162\n",
      "17194\n"
     ]
    }
   ],
   "source": [
    "# Initial three empty lists for Ask HN, Show HN and others\n",
    "ask_posts = []\n",
    "show_posts = []\n",
    "other_posts = []\n",
    "\n",
    "# Loop through the data set to get the title of posts\n",
    "for row in hn:\n",
    "    title = row[1]\n",
    "    \n",
    "# Ensure common captilization \n",
    "    title = title.lower()\n",
    "    \n",
    "# Filter the three types of posts \n",
    "    if title.startswith('ask hn') == True:\n",
    "        ask_posts.append(row)\n",
    "    elif title.startswith('show hn') == True:\n",
    "        show_posts.append(row)\n",
    "    else:\n",
    "        other_posts.append(row)\n",
    "\n",
    "# Check Number of posts in three lists\n",
    "\n",
    "print(len(ask_posts))\n",
    "print(len(show_posts))\n",
    "print(len(other_posts))\n",
    "     "
   ]
  },
  {
   "cell_type": "markdown",
   "metadata": {},
   "source": [
    "### Check the average number of comments for Ask HN and Show HN posts\n",
    "\n",
    "To fulfill our first aim - Does `Ask HN` or `Show HN` receive more comments on average?, we must compare the average number of comments.\n",
    "\n",
    "Average Number of Comments = Total Number of Comments/Number of posts"
   ]
  },
  {
   "cell_type": "code",
   "execution_count": 4,
   "metadata": {},
   "outputs": [
    {
     "name": "stdout",
     "output_type": "stream",
     "text": [
      "Average number of ask comments: 14.038417431192661\n",
      "Average number of show comments: 10.31669535283993\n"
     ]
    }
   ],
   "source": [
    "# Find Total Number of Comments for Ask HN posts\n",
    "# Initialize Empty Variable\n",
    "total_ask_comments = 0 \n",
    "\n",
    "for row in ask_posts:\n",
    "    comments = float(row[4])\n",
    "# Add comments from each posts to total comments\n",
    "    total_ask_comments += comments\n",
    "# Calculate Average number of comments\n",
    "avg_ask_comments = total_ask_comments/len(ask_posts)\n",
    "print(\"Average number of ask comments:\", avg_ask_comments)\n",
    "\n",
    "# Use Similar method to find Average Number of Comments for show posts\n",
    "total_show_comments = 0\n",
    "\n",
    "for row in show_posts:\n",
    "    comments = int(row[4])\n",
    "    total_show_comments += comments\n",
    "\n",
    "avg_show_comments = total_show_comments/len(show_posts)\n",
    "print(\"Average number of show comments:\",avg_show_comments)\n"
   ]
  },
  {
   "cell_type": "markdown",
   "metadata": {},
   "source": [
    "From this findings, we can observe that there are more comments on average for `Ask HN` posts compared to `Show HN` posts. This could be due to people being more likely to comment a reply to a question rather than commenting on something others wish to show."
   ]
  },
  {
   "cell_type": "markdown",
   "metadata": {},
   "source": [
    "## Do posts created at a certain time receive more comments on average?\n",
    "\n",
    "Since we have fulfilled our first objective, we shall now look into our second aim.\n",
    "\n",
    "Since `Ask HN` posts are more likely to receive comments, we will focus our remaining analysis on these posts. As we are working with time, we will make use of the `datetime` module  as well as the data present in the `created_at` column."
   ]
  },
  {
   "cell_type": "markdown",
   "metadata": {},
   "source": [
    "### Finding the number of Ask Posts and Comments Created by hour\n",
    "\n",
    "We will make use of two frequency tables to display the number of comments and ask posts that are being created at each specific hour.\n",
    "\n"
   ]
  },
  {
   "cell_type": "code",
   "execution_count": 5,
   "metadata": {
    "scrolled": true
   },
   "outputs": [
    {
     "name": "stdout",
     "output_type": "stream",
     "text": [
      "{'09': 45, '13': 85, '10': 59, '14': 107, '16': 108, '23': 68, '12': 73, '17': 100, '15': 116, '21': 109, '20': 80, '02': 58, '18': 109, '03': 54, '05': 46, '19': 110, '01': 60, '22': 71, '08': 48, '04': 47, '00': 55, '06': 44, '07': 34, '11': 58}\n",
      "{'09': 251, '13': 1253, '10': 793, '14': 1416, '16': 1814, '23': 543, '12': 687, '17': 1146, '15': 4477, '21': 1745, '20': 1722, '02': 1381, '18': 1439, '03': 421, '05': 464, '19': 1188, '01': 683, '22': 479, '08': 492, '04': 337, '00': 447, '06': 397, '07': 267, '11': 641}\n"
     ]
    }
   ],
   "source": [
    "# Import datetime module to assist us\n",
    "import datetime as dt\n",
    "# Filter Data Set to only include what we require \n",
    "# Number of comments and time comment was created\n",
    "result_list = []\n",
    "\n",
    "for row in ask_posts:\n",
    "    time = row[6]\n",
    "    comments = int(row[4])\n",
    "    result_list.append([time,comments])\n",
    "# Initialize two dictionaries to create frequency tables for\n",
    "# Total Number of posts by hour\n",
    "# Total Number of Comments in that hour\n",
    "counts_by_hour = {}\n",
    "comments_by_hour = {}\n",
    "\n",
    "#Create Frequency Table for number of comments and posts by hour\n",
    "for row in result_list:\n",
    "    time = row[0]\n",
    "    comments = row[1]\n",
    "    time_dt = dt.datetime.strptime(time, '%m/%d/%Y %H:%M')\n",
    "    hour = time_dt.strftime('%H')\n",
    "    \n",
    "    if hour not in counts_by_hour:\n",
    "        counts_by_hour[hour] = 1\n",
    "        comments_by_hour[hour] = comments\n",
    "    elif hour in counts_by_hour:\n",
    "        counts_by_hour[hour] += 1\n",
    "        comments_by_hour[hour] += comments\n",
    "\n",
    "print(counts_by_hour)\n",
    "print(comments_by_hour)"
   ]
  },
  {
   "cell_type": "markdown",
   "metadata": {},
   "source": [
    "### Calculating the Average Number of Comments for Ask HN Posts by hour\n",
    "\n",
    "We have seperated the number of comments and posts by hour. We will move on to calculate the average number.\n",
    "\n",
    "Average Numbers of Comments = Total Number of Comments/Number of Posts"
   ]
  },
  {
   "cell_type": "code",
   "execution_count": 6,
   "metadata": {},
   "outputs": [],
   "source": [
    "# Calculate Average number of comments per post\n",
    "# During each hour of the day\n",
    "\n",
    "avg_by_hour = []\n",
    "\n",
    "for key in counts_by_hour:\n",
    "    avg = comments_by_hour[key]/counts_by_hour[key]\n",
    "    avg_by_hour.append([key,avg])"
   ]
  },
  {
   "cell_type": "code",
   "execution_count": 7,
   "metadata": {
    "scrolled": true
   },
   "outputs": [
    {
     "name": "stdout",
     "output_type": "stream",
     "text": [
      "[['09', 5.5777777777777775], ['13', 14.741176470588234], ['10', 13.440677966101696], ['14', 13.233644859813085], ['16', 16.796296296296298], ['23', 7.985294117647059], ['12', 9.41095890410959], ['17', 11.46], ['15', 38.5948275862069], ['21', 16.009174311926607], ['20', 21.525], ['02', 23.810344827586206], ['18', 13.20183486238532], ['03', 7.796296296296297], ['05', 10.08695652173913], ['19', 10.8], ['01', 11.383333333333333], ['22', 6.746478873239437], ['08', 10.25], ['04', 7.170212765957447], ['00', 8.127272727272727], ['06', 9.022727272727273], ['07', 7.852941176470588], ['11', 11.051724137931034]]\n"
     ]
    }
   ],
   "source": [
    "print(avg_by_hour)"
   ]
  },
  {
   "cell_type": "markdown",
   "metadata": {},
   "source": [
    "### Sorting and Printing Values\n",
    "\n",
    "We have gotten our results, but the format makes it difficult to identify the hours with the highest values. We will sort out the list of lists and print the five highest average comments for `Ask HN` posts in a format that is easier to read.\n",
    "\n",
    "To sort by the average number of comments, we need to swap change the indexes of the values inside the lists"
   ]
  },
  {
   "cell_type": "code",
   "execution_count": 8,
   "metadata": {},
   "outputs": [
    {
     "name": "stdout",
     "output_type": "stream",
     "text": [
      "[[5.5777777777777775, '09'], [14.741176470588234, '13'], [13.440677966101696, '10'], [13.233644859813085, '14'], [16.796296296296298, '16'], [7.985294117647059, '23'], [9.41095890410959, '12'], [11.46, '17'], [38.5948275862069, '15'], [16.009174311926607, '21'], [21.525, '20'], [23.810344827586206, '02'], [13.20183486238532, '18'], [7.796296296296297, '03'], [10.08695652173913, '05'], [10.8, '19'], [11.383333333333333, '01'], [6.746478873239437, '22'], [10.25, '08'], [7.170212765957447, '04'], [8.127272727272727, '00'], [9.022727272727273, '06'], [7.852941176470588, '07'], [11.051724137931034, '11']]\n",
      "\n",
      "\n",
      "Top 5 Hours for Ask Posts Comments.\n",
      "15:00: 38.59 average comments per post\n",
      "02:00: 23.81 average comments per post\n",
      "20:00: 21.52 average comments per post\n",
      "16:00: 16.80 average comments per post\n",
      "21:00: 16.01 average comments per post\n"
     ]
    }
   ],
   "source": [
    "# Initialise empty list \n",
    "swag_avg_by_hour = []\n",
    "# Reverse the index \n",
    "for row in avg_by_hour:\n",
    "    time = row[0]\n",
    "    avg_num = row[1]\n",
    "    swag_avg_by_hour.append([avg_num,time])\n",
    "    \n",
    "print(swag_avg_by_hour)\n",
    "print('\\n')\n",
    "# Sort the new list\n",
    "sorted_swap = sorted(swag_avg_by_hour, reverse = True)\n",
    "\n",
    "# Print the 5 hours with highest average number of comments\n",
    "print('Top 5 Hours for Ask Posts Comments.')\n",
    "\n",
    "for avg,hour in sorted_swap[:5]:\n",
    "    hour = dt.datetime.strptime(hour, '%H')\n",
    "    hour = hour.strftime('%H:%M')\n",
    "    string = ('{time}: {num:.2f} average comments per post').format(time= hour, num= avg)\n",
    "    print(string)\n",
    "    "
   ]
  },
  {
   "cell_type": "markdown",
   "metadata": {},
   "source": [
    "Based on our findings, the time which sees the highest average number of comments is 15:00, with an average number of 38.59 comments. \n",
    "\n",
    "According to the data set [documentation](https://www.kaggle.com/hacker-news/hacker-news-posts), the time zone is Eastern time in the US. Hence, this translates to 3:00pm EST."
   ]
  },
  {
   "cell_type": "markdown",
   "metadata": {},
   "source": [
    "## Conclusion\n",
    "\n",
    "In conclusion, we found out that the best timing to get the most response from the users is at 3:00pm EST. \n",
    "\n",
    "However, it is important to note that our analysis may be inaccurate to a certain extent. This is due to the exclusion of posts without comments and using random sampling on the remaining data in order to reduce the size of the data set for easier calculation. Also, our analysis is based of `Ask Hn` posts only, creating an assumption that the trend for other posts follows suit. "
   ]
  }
 ],
 "metadata": {
  "kernelspec": {
   "display_name": "Python 3",
   "language": "python",
   "name": "python3"
  },
  "language_info": {
   "codemirror_mode": {
    "name": "ipython",
    "version": 3
   },
   "file_extension": ".py",
   "mimetype": "text/x-python",
   "name": "python",
   "nbconvert_exporter": "python",
   "pygments_lexer": "ipython3",
   "version": "3.8.2"
  }
 },
 "nbformat": 4,
 "nbformat_minor": 2
}
