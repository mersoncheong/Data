{
 "cells": [
  {
   "cell_type": "markdown",
   "metadata": {},
   "source": [
    "# Profitable App Profiles for IOS and Android App Store\n",
    "\n",
    "In this project, I will analyze data from IOS and Android App Stores to figure out if there is a trend of applications that is more well-received among users.\n",
    "\n",
    "We will be using data from the IOS Appstore and the Android Google Play Store.\n",
    "\n",
    "The goal for this project is to recommend an app profile that can be profitable in both the Apple App Store and the Android Google Play Store.\n",
    "\n",
    "Our company generates revenue mainly off in-app ads, hence the number of users would be directly linked to our revenue generated. Therefore, it is important to analyse app profiles that attracts the most number of users.\n",
    "\n",
    "Links to the dataset can be obtained from here:\n",
    "\n",
    "[Apple Store](https://www.kaggle.com/ramamet4/app-store-apple-data-set-10k-apps)\n",
    "\n",
    "[Android Google Play Store](https://www.kaggle.com/lava18/google-play-store-apps)"
   ]
  },
  {
   "cell_type": "markdown",
   "metadata": {},
   "source": [
    "## Import the Data Sets\n",
    "\n",
    "Firstly, we have to open the data sets which we have found as seen from above."
   ]
  },
  {
   "cell_type": "code",
   "execution_count": 1,
   "metadata": {},
   "outputs": [
    {
     "ename": "UnicodeDecodeError",
     "evalue": "'charmap' codec can't decode byte 0x90 in position 2755: character maps to <undefined>",
     "output_type": "error",
     "traceback": [
      "\u001b[1;31m---------------------------------------------------------------------------\u001b[0m",
      "\u001b[1;31mUnicodeDecodeError\u001b[0m                        Traceback (most recent call last)",
      "\u001b[1;32m<ipython-input-1-3f97718cf302>\u001b[0m in \u001b[0;36m<module>\u001b[1;34m\u001b[0m\n\u001b[0;32m      3\u001b[0m \u001b[0mopenedfile\u001b[0m \u001b[1;33m=\u001b[0m \u001b[0mopen\u001b[0m\u001b[1;33m(\u001b[0m\u001b[1;34m'googleplaystore.csv'\u001b[0m\u001b[1;33m)\u001b[0m\u001b[1;33m\u001b[0m\u001b[1;33m\u001b[0m\u001b[0m\n\u001b[0;32m      4\u001b[0m \u001b[0mreadfile\u001b[0m \u001b[1;33m=\u001b[0m \u001b[0mreader\u001b[0m\u001b[1;33m(\u001b[0m\u001b[0mopenedfile\u001b[0m\u001b[1;33m)\u001b[0m\u001b[1;33m\u001b[0m\u001b[1;33m\u001b[0m\u001b[0m\n\u001b[1;32m----> 5\u001b[1;33m \u001b[0mandroid\u001b[0m \u001b[1;33m=\u001b[0m \u001b[0mlist\u001b[0m\u001b[1;33m(\u001b[0m\u001b[0mreadfile\u001b[0m\u001b[1;33m)\u001b[0m\u001b[1;33m\u001b[0m\u001b[1;33m\u001b[0m\u001b[0m\n\u001b[0m\u001b[0;32m      6\u001b[0m \u001b[1;33m\u001b[0m\u001b[0m\n\u001b[0;32m      7\u001b[0m \u001b[1;33m\u001b[0m\u001b[0m\n",
      "\u001b[1;32m~\\anaconda3\\lib\\encodings\\cp1252.py\u001b[0m in \u001b[0;36mdecode\u001b[1;34m(self, input, final)\u001b[0m\n\u001b[0;32m     21\u001b[0m \u001b[1;32mclass\u001b[0m \u001b[0mIncrementalDecoder\u001b[0m\u001b[1;33m(\u001b[0m\u001b[0mcodecs\u001b[0m\u001b[1;33m.\u001b[0m\u001b[0mIncrementalDecoder\u001b[0m\u001b[1;33m)\u001b[0m\u001b[1;33m:\u001b[0m\u001b[1;33m\u001b[0m\u001b[1;33m\u001b[0m\u001b[0m\n\u001b[0;32m     22\u001b[0m     \u001b[1;32mdef\u001b[0m \u001b[0mdecode\u001b[0m\u001b[1;33m(\u001b[0m\u001b[0mself\u001b[0m\u001b[1;33m,\u001b[0m \u001b[0minput\u001b[0m\u001b[1;33m,\u001b[0m \u001b[0mfinal\u001b[0m\u001b[1;33m=\u001b[0m\u001b[1;32mFalse\u001b[0m\u001b[1;33m)\u001b[0m\u001b[1;33m:\u001b[0m\u001b[1;33m\u001b[0m\u001b[1;33m\u001b[0m\u001b[0m\n\u001b[1;32m---> 23\u001b[1;33m         \u001b[1;32mreturn\u001b[0m \u001b[0mcodecs\u001b[0m\u001b[1;33m.\u001b[0m\u001b[0mcharmap_decode\u001b[0m\u001b[1;33m(\u001b[0m\u001b[0minput\u001b[0m\u001b[1;33m,\u001b[0m\u001b[0mself\u001b[0m\u001b[1;33m.\u001b[0m\u001b[0merrors\u001b[0m\u001b[1;33m,\u001b[0m\u001b[0mdecoding_table\u001b[0m\u001b[1;33m)\u001b[0m\u001b[1;33m[\u001b[0m\u001b[1;36m0\u001b[0m\u001b[1;33m]\u001b[0m\u001b[1;33m\u001b[0m\u001b[1;33m\u001b[0m\u001b[0m\n\u001b[0m\u001b[0;32m     24\u001b[0m \u001b[1;33m\u001b[0m\u001b[0m\n\u001b[0;32m     25\u001b[0m \u001b[1;32mclass\u001b[0m \u001b[0mStreamWriter\u001b[0m\u001b[1;33m(\u001b[0m\u001b[0mCodec\u001b[0m\u001b[1;33m,\u001b[0m\u001b[0mcodecs\u001b[0m\u001b[1;33m.\u001b[0m\u001b[0mStreamWriter\u001b[0m\u001b[1;33m)\u001b[0m\u001b[1;33m:\u001b[0m\u001b[1;33m\u001b[0m\u001b[1;33m\u001b[0m\u001b[0m\n",
      "\u001b[1;31mUnicodeDecodeError\u001b[0m: 'charmap' codec can't decode byte 0x90 in position 2755: character maps to <undefined>"
     ]
    }
   ],
   "source": [
    "from csv import reader \n",
    "\n",
    "openedfile = open('googleplaystore.csv')\n",
    "readfile = reader(openedfile)\n",
    "android = list(readfile)\n",
    "\n",
    "\n",
    "openedfile = open('AppleStore.csv')\n",
    "readfile = reader(openedfile)\n",
    "ios = list(readfile)\n"
   ]
  },
  {
   "cell_type": "markdown",
   "metadata": {},
   "source": [
    "To create ease in exploring our data sets as we progress along, I am creating a function that we can repeatedly use so as to reduce the amount of time spent as well as code written.\n",
    "\n",
    "For starters, we will explore the IOS data set."
   ]
  },
  {
   "cell_type": "code",
   "execution_count": null,
   "metadata": {},
   "outputs": [],
   "source": [
    "def explore_data(dataset, start, end, rows_and_columns=False):\n",
    "    dataset_slice = dataset[start:end]    \n",
    "    for row in dataset_slice:\n",
    "        print(row)\n",
    "        print('\\n') # adds a new (empty) line after each row\n",
    "\n",
    "    if rows_and_columns:\n",
    "        print('Number of rows:', len(dataset))\n",
    "        print('Number of columns:', len(dataset[0]))\n",
    "\n",
    "explore_data(ios, 0, 5, True)"
   ]
  },
  {
   "cell_type": "markdown",
   "metadata": {},
   "source": [
    "We can see that the number of rows in the IOS app store is 7198, which includes the header, and 16 columns.\n",
    "\n",
    "Let's take a look at the Android Google Play Data Set."
   ]
  },
  {
   "cell_type": "code",
   "execution_count": null,
   "metadata": {},
   "outputs": [],
   "source": [
    "explore_data(android,0,5,True)"
   ]
  },
  {
   "cell_type": "markdown",
   "metadata": {},
   "source": [
    "Important columns that could potential aid us in our analysis are \n",
    "\n",
    "1. App Name\n",
    "2. Price\n",
    "3. Average User Rating Count\n",
    "4. Language \n",
    "5. Age\n",
    "6. Genre\n",
    "\n",
    "You can find a clearer documentation of the column names [here](https://www.kaggle.com/ramamet4/app-store-apple-data-set-10k-apps)"
   ]
  },
  {
   "cell_type": "markdown",
   "metadata": {},
   "source": [
    "In the [discussion section](https://www.kaggle.com/lava18/google-play-store-apps/discussion), it is mentioned by users that there is a missing input in line 10473. Let's investigate if this is true."
   ]
  },
  {
   "cell_type": "code",
   "execution_count": null,
   "metadata": {
    "scrolled": true
   },
   "outputs": [],
   "source": [
    "print(android[0])\n",
    "print('\\n')\n",
    "print(android[10473])"
   ]
  },
  {
   "cell_type": "markdown",
   "metadata": {},
   "source": [
    "It can be observed in the 3rd reading that the `Rating` is 19. However, it is clear that the maximum rating for Google Play Store is 5. Hence, there is an incorrect data inputted."
   ]
  },
  {
   "cell_type": "markdown",
   "metadata": {},
   "source": [
    "I shall delete the row with the incorrect data present"
   ]
  },
  {
   "cell_type": "code",
   "execution_count": null,
   "metadata": {},
   "outputs": [],
   "source": [
    "del android[10473]"
   ]
  },
  {
   "cell_type": "markdown",
   "metadata": {},
   "source": [
    "Let's check for any duplicate values present in the data set."
   ]
  },
  {
   "cell_type": "code",
   "execution_count": null,
   "metadata": {},
   "outputs": [],
   "source": [
    "unique_entry = []\n",
    "duplicate_entry = []\n",
    "for row in android:\n",
    "    app = row[0]\n",
    "    if app in unique_entry:\n",
    "        duplicate_entry.append(app)\n",
    "    else:\n",
    "        unique_entry.append(app)\n",
    "print('Number of duplicate apps:', len(duplicate_entry))"
   ]
  },
  {
   "cell_type": "markdown",
   "metadata": {},
   "source": [
    "Duplicates present in the data set would not be removed at random. \n",
    "I will use the number of reviews as the criteria when removing duplicates. Same application with more number of reviews signifies a later version and hence would be kept within the data set.\n",
    "\n",
    "To achieve our aim, we will \n",
    "- Create a dictionary where each key is a unique app name, and the value is the highest number of reviews of that app.\n",
    "- We will use the dictionary to create a new data set, which will have only one entry per application - the one with the highest number of reviews. "
   ]
  },
  {
   "cell_type": "code",
   "execution_count": null,
   "metadata": {},
   "outputs": [],
   "source": [
    "reviews_max = {}\n",
    "\n",
    "for row in android[1:]:\n",
    "    name = row[0]\n",
    "    n_reviews = float(row[3])\n",
    "    \n",
    "    if name in reviews_max and reviews_max[name] < n_reviews:\n",
    "        reviews_max[name] = n_reviews\n",
    "        \n",
    "    elif name not in reviews_max:\n",
    "        reviews_max[name] = n_reviews\n",
    "\n",
    "print('Expected Length:', len(android[1:]) - 1181)\n",
    "print('Actual Length: ',len(reviews_max))"
   ]
  },
  {
   "cell_type": "raw",
   "metadata": {},
   "source": [
    "Previously we found out that the number of duplicate apps is 1181.\n",
    "The actual length of the android data set without duplicate would naturally be - length of android data list minus the number of duplicates\n",
    "\n",
    "\n",
    "Now, using the dictionary I have created above, I will create a new list which is removed of duplicate rows"
   ]
  },
  {
   "cell_type": "code",
   "execution_count": null,
   "metadata": {
    "scrolled": true
   },
   "outputs": [],
   "source": [
    "android_clean = []\n",
    "already_added = []\n",
    "\n",
    "for row in android[1:]:\n",
    "    name = row[0]\n",
    "    n_reviews = float(row[3])\n",
    "    \n",
    "    if (n_reviews == reviews_max[name]) and (name not in already_added):\n",
    "        android_clean.append(row)\n",
    "        already_added.append(name)\n",
    "        \n",
    "explore_data(android_clean, 0,4, True)"
   ]
  },
  {
   "cell_type": "markdown",
   "metadata": {},
   "source": [
    "Check the number of duplicate applications in the Apple Store"
   ]
  },
  {
   "cell_type": "code",
   "execution_count": null,
   "metadata": {},
   "outputs": [],
   "source": [
    "unique_entry1 = []\n",
    "duplicate_entry1 = []\n",
    "for row in ios[1:]:\n",
    "    app = row[0]\n",
    "    if app in unique_entry:\n",
    "        duplicate_entry1.append(app)\n",
    "    else:\n",
    "        unique_entry1.append(app)\n",
    "print('Number of duplicate apps:', len(duplicate_entry1))"
   ]
  },
  {
   "cell_type": "markdown",
   "metadata": {},
   "source": [
    "No duplicate entries found in the Apple Store"
   ]
  },
  {
   "cell_type": "markdown",
   "metadata": {},
   "source": [
    "Now, we will proceed to remove non-English applications as we only intend to produce applications for the English audience"
   ]
  },
  {
   "cell_type": "code",
   "execution_count": null,
   "metadata": {},
   "outputs": [],
   "source": [
    "def englishcheck(language):\n",
    "    for letter in language:\n",
    "        if ord(letter) > 127:\n",
    "            return False\n",
    "        \n",
    "    return True\n",
    "\n",
    "print(englishcheck('Instagram'))\n",
    "print(englishcheck('爱奇艺PPS -《欢乐颂2》电视剧热播'))\n",
    "print(englishcheck('Docs To Go™ Free Office Suite'))\n",
    "print(englishcheck('Instachat 😜'))"
   ]
  },
  {
   "cell_type": "markdown",
   "metadata": {},
   "source": [
    "As seen, `False` is returned even though the name of the application inputted is in English. This is due to the emoji and \"tm\" sign not being recognised by the system, hence returning us with an incorrect boolean. We will amend the function created to prevent this problem from arising."
   ]
  },
  {
   "cell_type": "code",
   "execution_count": null,
   "metadata": {},
   "outputs": [],
   "source": [
    "def englishcheck(language):\n",
    "    ascii = 0\n",
    "    for letter in language:\n",
    "        if ord(letter) > 127:\n",
    "            ascii += 1\n",
    "            if ascii > 3:\n",
    "                return False\n",
    "    return True\n",
    "\n",
    "print(englishcheck('Instagram'))\n",
    "print(englishcheck('爱奇艺PPS -《欢乐颂2》电视剧热播'))\n",
    "print(englishcheck('Docs To Go™ Free Office Suite'))\n",
    "print(englishcheck('Instachat 😜'))"
   ]
  },
  {
   "cell_type": "markdown",
   "metadata": {},
   "source": [
    "Using this newly edited function, I will filter out the rows of English Applications"
   ]
  },
  {
   "cell_type": "code",
   "execution_count": null,
   "metadata": {},
   "outputs": [],
   "source": [
    "android_english = []\n",
    "\n",
    "for app in android_clean:\n",
    "    name = app[0]\n",
    "    if englishcheck(name):\n",
    "        android_english.append(app)\n",
    "    \n",
    "explore_data(android_english, 0,5, True)"
   ]
  },
  {
   "cell_type": "code",
   "execution_count": null,
   "metadata": {},
   "outputs": [],
   "source": [
    "ios_english = []\n",
    "for row in ios[1:]:\n",
    "    name = row[1]\n",
    "    if englishcheck(name):\n",
    "        ios_english.append(row)"
   ]
  },
  {
   "cell_type": "code",
   "execution_count": null,
   "metadata": {},
   "outputs": [],
   "source": [
    "explore_data(ios_english, 0,3,True)"
   ]
  },
  {
   "cell_type": "markdown",
   "metadata": {},
   "source": [
    "We can see that we're left with 9614 Android apps and 6183 iOS apps."
   ]
  },
  {
   "cell_type": "markdown",
   "metadata": {},
   "source": [
    "Since we are only interested in building free apps, it is not of our concern to analyze paid apps. Therefore, it is of best interest to isolate the free apps in the data set. "
   ]
  },
  {
   "cell_type": "code",
   "execution_count": null,
   "metadata": {
    "scrolled": true
   },
   "outputs": [],
   "source": [
    "print(android[0])\n",
    "print(ios[0])"
   ]
  },
  {
   "cell_type": "code",
   "execution_count": null,
   "metadata": {},
   "outputs": [],
   "source": [
    "print(android_english[:3])"
   ]
  },
  {
   "cell_type": "code",
   "execution_count": null,
   "metadata": {},
   "outputs": [],
   "source": []
  },
  {
   "cell_type": "markdown",
   "metadata": {},
   "source": [
    "IOS price index - 4\n",
    "\n",
    "Android price index - 7 \n"
   ]
  },
  {
   "cell_type": "code",
   "execution_count": null,
   "metadata": {},
   "outputs": [],
   "source": [
    "android_free = [] \n",
    "\n",
    "for row in android_english:\n",
    "    price = row[7]\n",
    "    \n",
    "    if price == '0':\n",
    "        android_free.append(row)\n",
    "        \n",
    "explore_data(android_free, 0, 3 , True)\n"
   ]
  },
  {
   "cell_type": "code",
   "execution_count": null,
   "metadata": {},
   "outputs": [],
   "source": [
    "ios_free  = []\n",
    "\n",
    "for row in ios_english:\n",
    "    price = row[4]\n",
    "    \n",
    "    if price == '0.0':\n",
    "        ios_free.append(row)\n",
    "        \n",
    "explore_data(ios_free, 0, 3 , True)"
   ]
  },
  {
   "cell_type": "markdown",
   "metadata": {},
   "source": [
    "Now, we can see that we are left with 3222 IOS apps and 8864 Android apps for our analysis"
   ]
  },
  {
   "cell_type": "markdown",
   "metadata": {},
   "source": [
    "To ensure our app is profitable, we will make use of a validation strategy. \n",
    "\n",
    "Our final goal is make an app which would be successful on both markets - IOS and Android. Therefore, we are firstly going to launch a minimal verison of the app on the Google Play Store, if the app is well-received among the users, we then develop it further. If we see profits after a span of 6 months, we will then build an IOS version of the app and add it on the App Store. \n",
    "\n",
    "Thus, we will now analyze apps that are profitable on both the Android and IOS application stores. We will get started by highlighting the genres more comonly found in each market. \n"
   ]
  },
  {
   "cell_type": "code",
   "execution_count": null,
   "metadata": {
    "scrolled": true
   },
   "outputs": [],
   "source": [
    "print(ios[0])\n",
    "print(android[0])\n"
   ]
  },
  {
   "cell_type": "markdown",
   "metadata": {},
   "source": [
    "The index of the genre for both platforms are\n",
    "\n",
    "IOS - 11 `prime_genres`\n",
    "\n",
    "Android \n",
    "-4 `Genre`\n",
    " 1 `Category`"
   ]
  },
  {
   "cell_type": "markdown",
   "metadata": {},
   "source": [
    "Now, we are going to build a table to view the percentages of genres present in the respective application stores. We will of a frequency table to carry this process out. Afterwards, we will make use of a list of tuples to sort this frequency table to view the percentages in a descending order. "
   ]
  },
  {
   "cell_type": "code",
   "execution_count": null,
   "metadata": {},
   "outputs": [],
   "source": [
    "def freq_table(dataset, index):\n",
    "    table ={}\n",
    "    for row in dataset:\n",
    "        name = row[index]\n",
    "        if name in table:\n",
    "            table[name] += 1\n",
    "        else: \n",
    "            table[name] = 1 \n",
    "    return table\n",
    "\n",
    "    "
   ]
  },
  {
   "cell_type": "code",
   "execution_count": null,
   "metadata": {},
   "outputs": [],
   "source": [
    "def display_table(dataset,index):\n",
    "    table = freq_table(dataset,index)\n",
    "    table_display = [] \n",
    "    for key in table:\n",
    "        key_val_as_tuple = (table[key], key)\n",
    "        table_display.append(key_val_as_tuple)\n",
    "        \n",
    "    table_sorted = sorted(table_display, reverse = True)\n",
    "    for entry in table_sorted:\n",
    "        print(entry[1], ':', entry[0])"
   ]
  },
  {
   "cell_type": "code",
   "execution_count": null,
   "metadata": {},
   "outputs": [],
   "source": [
    "display_table(ios_free, 11)"
   ]
  },
  {
   "cell_type": "code",
   "execution_count": null,
   "metadata": {},
   "outputs": [],
   "source": [
    "display_table(android_free, -4)"
   ]
  },
  {
   "cell_type": "code",
   "execution_count": null,
   "metadata": {},
   "outputs": [],
   "source": [
    "display_table(android_free, 1)"
   ]
  },
  {
   "cell_type": "markdown",
   "metadata": {},
   "source": [
    "**IOS APPLICATIONS**\n",
    "\n",
    "Looking at the most common genres present in the IOS appstore, Games top the charts and Entertainment comes next. \n",
    "\n",
    "The number of game applications found in the IOS app store is significantly more than the rest of the other genres, having 1874 applications that fall under its category, while the category second to it, entertainment, only has 254 such applications. \n",
    "\n",
    "Most of the applications found in the IOS app store seems to be for entertainment purposes - the top 3 apps being for entertainment purposes with Games being more significantly produced then the other applications.\n",
    "\n",
    "However, this frequency table may be inaccurate to a certain degree.\n",
    "This is because the number of applications falling under a certain genre does not neccessarily signify that the demand of that application is higher than the rest. This could be due to a major application, for instance Netflix, occupying huge market share amongst the Entertainment applicatins, causing it to be difficult for new applications to enter the market, thus seeing less developers producing entertainment applications. Whereas, users may always be looking for new games on their devices, hence having the tendency to download more games. This increases the demand for games which cause more developers to produce more of it. \n"
   ]
  },
  {
   "cell_type": "markdown",
   "metadata": {},
   "source": [
    "**ANDROID APPLICATIONS**\n",
    "\n",
    "Viewing the android application genres, there is a better spread amongst the different genres as compared to the IOS applications.  \n",
    "\n",
    "The most common category in the android play store is family, with games in second place. \n",
    "The most common genre in the android play store is Tools, with entertainment tailing close behind in second place. \n",
    "\n",
    "Android play store seems to have more diversified options as each genre seems to possess many apps. This differs from the IOS store where applications other than the top few genres possess very few options. \n",
    "\n",
    "However, I am still unable to recommend an app profile based on the data I have gotten. The data that has been produce does not accurately show the popularity of the applications - more applications does not necessarily signify a higher popularity as mentioned earlier. Therefore, it is pertinent that we get data of which genre has the most users to accurately potray the market demand for each genre.\n",
    "\n",
    "We will move on to calculate the number of users for each genre of application"
   ]
  },
  {
   "cell_type": "markdown",
   "metadata": {},
   "source": [
    "# Most popular IOS apps by Genre"
   ]
  },
  {
   "cell_type": "code",
   "execution_count": null,
   "metadata": {},
   "outputs": [],
   "source": [
    "prime_genre_table = freq_table(ios_free,11)\n",
    "print(prime_genre_table)"
   ]
  },
  {
   "cell_type": "code",
   "execution_count": null,
   "metadata": {
    "scrolled": true
   },
   "outputs": [],
   "source": [
    "for genre in prime_genre_table:\n",
    "    total = 0\n",
    "    len_genre = 0 \n",
    "    \n",
    "    for row in ios_free:\n",
    "        genre_app = row[11]\n",
    "        if genre_app == genre:\n",
    "            ratings = float(row[5])\n",
    "            total += ratings\n",
    "            len_genre += 1\n",
    "            \n",
    "    average_user_rating = total/len_genre\n",
    "    print(genre, ':', average_user_rating)"
   ]
  },
  {
   "cell_type": "code",
   "execution_count": null,
   "metadata": {},
   "outputs": [],
   "source": [
    "for row in ios_free:\n",
    "    if row[11] == 'Book':\n",
    "        print (row[1],':', row[5])"
   ]
  },
  {
   "cell_type": "markdown",
   "metadata": {},
   "source": [
    "I would recommend Book as the app profile of our new application.\n",
    "\n",
    "The genre possesses nearly 40 thousand number of users on average which is substantial in relative to the other genres. There are few number of applications present under this genre, meaning we face fewer competition in this market, also there are few \"giants\" in this genre as compared to Social Networking where there are established platforms such as Facebook which makes it harder to compete with. As the main source of revenue for the application is in app advertisements, it is much easier to have advertisements present in book advertisements without causing users to be frustrated. "
   ]
  },
  {
   "cell_type": "markdown",
   "metadata": {},
   "source": [
    "# Most Popular Android Apps by Genre\n",
    "\n",
    "We analyze the average number of users based on the different categories in the Play Store. We will edit our the install numbers and use the estimated values of installation to get the average results. This will cause our data gotten to be inaccurate to a small extent."
   ]
  },
  {
   "cell_type": "code",
   "execution_count": null,
   "metadata": {},
   "outputs": [],
   "source": [
    "category_freqtable = freq_table(android_free, 1)\n",
    "print(category_freqtable)"
   ]
  },
  {
   "cell_type": "code",
   "execution_count": null,
   "metadata": {},
   "outputs": [],
   "source": [
    "for category in category_freqtable:\n",
    "    total  = 0\n",
    "    len_category = 0 \n",
    "    \n",
    "    for row in android_free:\n",
    "        category_app = row[1]\n",
    "        if category_app == category:\n",
    "            installs = row[5]\n",
    "            installs = installs.replace('+', '')\n",
    "            installs = installs.replace(',','')\n",
    "            total += float(installs)\n",
    "            len_category += 1\n",
    "    \n",
    "    average_user_install = total/len_category\n",
    "    print(category, ':',average_user_install)"
   ]
  },
  {
   "cell_type": "markdown",
   "metadata": {},
   "source": [
    "As our aim is to launch a product that would be profitable in both the IOS app store and the Google Play Store, let's take a look at the market for Books in the Google Play Store."
   ]
  },
  {
   "cell_type": "code",
   "execution_count": null,
   "metadata": {},
   "outputs": [],
   "source": [
    "for row in android_free:\n",
    "    if row[1] == 'BOOKS_AND_REFERENCE':\n",
    "        print(row[0], ':', row[5])"
   ]
  },
  {
   "cell_type": "markdown",
   "metadata": {},
   "source": [
    "This significantly more competition felt in the Google Play Store. This might be due to Android combine the Book category together with the Reference Catetgory of the IOS. Let's take a look at the major competitors"
   ]
  },
  {
   "cell_type": "code",
   "execution_count": null,
   "metadata": {},
   "outputs": [],
   "source": [
    "for row in android_free:\n",
    "    if row[1] == 'BOOKS_AND_REFERENCE' and (row[5] == '1,000,000,000+'\n",
    "                                           or row[5] == '500,000,000+'\n",
    "                                           or row[5] == '100,000,000+'):\n",
    "        print(row[0], ':', row[5])"
   ]
  },
  {
   "cell_type": "markdown",
   "metadata": {},
   "source": [
    "Google Play Store has a huge competitor in Google Play Books that is seemingly doing significantly better than the other applications that fall under this category. This can cause it to be very difficult for our app to be profitable in this genre of the market. "
   ]
  },
  {
   "cell_type": "code",
   "execution_count": null,
   "metadata": {},
   "outputs": [],
   "source": []
  }
 ],
 "metadata": {
  "kernelspec": {
   "display_name": "Python 3",
   "language": "python",
   "name": "python3"
  },
  "language_info": {
   "codemirror_mode": {
    "name": "ipython",
    "version": 3
   },
   "file_extension": ".py",
   "mimetype": "text/x-python",
   "name": "python",
   "nbconvert_exporter": "python",
   "pygments_lexer": "ipython3",
   "version": "3.8.3"
  }
 },
 "nbformat": 4,
 "nbformat_minor": 2
}
