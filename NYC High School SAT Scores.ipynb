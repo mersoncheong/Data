{
 "cells": [
  {
   "cell_type": "markdown",
   "metadata": {},
   "source": [
    "## Analyzing NYC High School Data\n",
    "\n",
    "In this project, we will explore the relationship between SAT scores and demograhic factors in NYC public schools.The [SAT](https://en.wikipedia.org/wiki/SAT), or Scholastic Aptitude Test, is a test that high school seniors in the U.S. take every year. The SAT has three sections, each is worth 800 points. Colleges use the SAT to determine which students to admit. High average SAT scores are usually indicative of a good school.\n",
    "\n",
    "New York City has published data on [student SAT scores](https://data.cityofnewyork.us/Education/2012-SAT-Results/f9bf-2cp4) by high schools, along with additional demographic datasets. As New York city has a significant immigrant population and is very diverse, by comparing <b>demographic factors</b> such as race, income, gender,etc with SAT scores is a good way to determine whether the SAT is a fair test. However, if any demographic groups were to be consistently perform better on the SAT, analysis might have to be done to uncover reasons for that trend. "
   ]
  },
  {
   "cell_type": "markdown",
   "metadata": {},
   "source": [
    "# Read in the data"
   ]
  },
  {
   "cell_type": "code",
   "execution_count": 1,
   "metadata": {},
   "outputs": [],
   "source": [
    "import pandas as pd\n",
    "import numpy \n",
    "import re\n",
    "\n",
    "data_files = [\n",
    "    \"ap_2010.csv\",\n",
    "    \"class_size.csv\",\n",
    "    \"demographics.csv\",\n",
    "    \"graduation.csv\",\n",
    "    \"hs_directory.csv\",\n",
    "    \"sat_results.csv\"\n",
    "]\n",
    "\n",
    "data = {}\n",
    "\n",
    "for f in data_files:\n",
    "    d = pd.read_csv(\"schools/{0}\".format(f))\n",
    "    data[f.replace(\".csv\", \"\")] = d"
   ]
  },
  {
   "cell_type": "markdown",
   "metadata": {},
   "source": [
    "# Read in the surveys"
   ]
  },
  {
   "cell_type": "code",
   "execution_count": 2,
   "metadata": {},
   "outputs": [],
   "source": [
    "all_survey = pd.read_csv(\"schools/survey_all.txt\", delimiter=\"\\t\", encoding='windows-1252')\n",
    "d75_survey = pd.read_csv(\"schools/survey_d75.txt\", delimiter=\"\\t\", encoding='windows-1252')\n",
    "survey = pd.concat([all_survey, d75_survey], axis=0)\n",
    "\n",
    "survey[\"DBN\"] = survey[\"dbn\"]\n",
    "\n",
    "survey_fields = [\n",
    "    \"DBN\", \n",
    "    \"rr_s\", \n",
    "    \"rr_t\", \n",
    "    \"rr_p\", \n",
    "    \"N_s\", \n",
    "    \"N_t\", \n",
    "    \"N_p\", \n",
    "    \"saf_p_11\", \n",
    "    \"com_p_11\", \n",
    "    \"eng_p_11\", \n",
    "    \"aca_p_11\", \n",
    "    \"saf_t_11\", \n",
    "    \"com_t_11\", \n",
    "    \"eng_t_11\", \n",
    "    \"aca_t_11\", \n",
    "    \"saf_s_11\", \n",
    "    \"com_s_11\", \n",
    "    \"eng_s_11\", \n",
    "    \"aca_s_11\", \n",
    "    \"saf_tot_11\", \n",
    "    \"com_tot_11\", \n",
    "    \"eng_tot_11\", \n",
    "    \"aca_tot_11\",\n",
    "]\n",
    "survey = survey.loc[:,survey_fields]\n",
    "data[\"survey\"] = survey"
   ]
  },
  {
   "cell_type": "markdown",
   "metadata": {},
   "source": [
    "# Add DBN columns"
   ]
  },
  {
   "cell_type": "code",
   "execution_count": 3,
   "metadata": {},
   "outputs": [],
   "source": [
    "data[\"hs_directory\"][\"DBN\"] = data[\"hs_directory\"][\"dbn\"]\n",
    "\n",
    "def pad_csd(num):\n",
    "    string_representation = str(num)\n",
    "    if len(string_representation) > 1:\n",
    "        return string_representation\n",
    "    else:\n",
    "        return \"0\" + string_representation\n",
    "    \n",
    "data[\"class_size\"][\"padded_csd\"] = data[\"class_size\"][\"CSD\"].apply(pad_csd)\n",
    "data[\"class_size\"][\"DBN\"] = data[\"class_size\"][\"padded_csd\"] + data[\"class_size\"][\"SCHOOL CODE\"]"
   ]
  },
  {
   "cell_type": "markdown",
   "metadata": {},
   "source": [
    "# Convert columns to numeric"
   ]
  },
  {
   "cell_type": "code",
   "execution_count": 4,
   "metadata": {},
   "outputs": [],
   "source": [
    "cols = ['SAT Math Avg. Score', 'SAT Critical Reading Avg. Score', 'SAT Writing Avg. Score']\n",
    "for c in cols:\n",
    "    data[\"sat_results\"][c] = pd.to_numeric(data[\"sat_results\"][c], errors=\"coerce\")\n",
    "\n",
    "data['sat_results']['sat_score'] = data['sat_results'][cols[0]] + data['sat_results'][cols[1]] + data['sat_results'][cols[2]]\n",
    "\n",
    "def find_lat(loc):\n",
    "    coords = re.findall(\"\\(.+, .+\\)\", loc)\n",
    "    lat = coords[0].split(\",\")[0].replace(\"(\", \"\")\n",
    "    return lat\n",
    "\n",
    "def find_lon(loc):\n",
    "    coords = re.findall(\"\\(.+, .+\\)\", loc)\n",
    "    lon = coords[0].split(\",\")[1].replace(\")\", \"\").strip()\n",
    "    return lon\n",
    "\n",
    "data[\"hs_directory\"][\"lat\"] = data[\"hs_directory\"][\"Location 1\"].apply(find_lat)\n",
    "data[\"hs_directory\"][\"lon\"] = data[\"hs_directory\"][\"Location 1\"].apply(find_lon)\n",
    "\n",
    "data[\"hs_directory\"][\"lat\"] = pd.to_numeric(data[\"hs_directory\"][\"lat\"], errors=\"coerce\")\n",
    "data[\"hs_directory\"][\"lon\"] = pd.to_numeric(data[\"hs_directory\"][\"lon\"], errors=\"coerce\")"
   ]
  },
  {
   "cell_type": "markdown",
   "metadata": {},
   "source": [
    "# Condense datasets"
   ]
  },
  {
   "cell_type": "code",
   "execution_count": 5,
   "metadata": {},
   "outputs": [],
   "source": [
    "class_size = data[\"class_size\"]\n",
    "class_size = class_size[class_size[\"GRADE \"] == \"09-12\"]\n",
    "class_size = class_size[class_size[\"PROGRAM TYPE\"] == \"GEN ED\"]\n",
    "\n",
    "class_size = class_size.groupby(\"DBN\").agg(numpy.mean)\n",
    "class_size.reset_index(inplace=True)\n",
    "data[\"class_size\"] = class_size\n",
    "\n",
    "data[\"demographics\"] = data[\"demographics\"][data[\"demographics\"][\"schoolyear\"] == 20112012]\n",
    "\n",
    "data[\"graduation\"] = data[\"graduation\"][data[\"graduation\"][\"Cohort\"] == \"2006\"]\n",
    "data[\"graduation\"] = data[\"graduation\"][data[\"graduation\"][\"Demographic\"] == \"Total Cohort\"]"
   ]
  },
  {
   "cell_type": "markdown",
   "metadata": {},
   "source": [
    "# Convert AP scores to numeric"
   ]
  },
  {
   "cell_type": "code",
   "execution_count": 6,
   "metadata": {},
   "outputs": [],
   "source": [
    "cols = ['AP Test Takers ', 'Total Exams Taken', 'Number of Exams with scores 3 4 or 5']\n",
    "\n",
    "for col in cols:\n",
    "    data[\"ap_2010\"][col] = pd.to_numeric(data[\"ap_2010\"][col], errors=\"coerce\")"
   ]
  },
  {
   "cell_type": "markdown",
   "metadata": {},
   "source": [
    "# Combine the datasets"
   ]
  },
  {
   "cell_type": "code",
   "execution_count": 7,
   "metadata": {},
   "outputs": [],
   "source": [
    "combined = data[\"sat_results\"]\n",
    "\n",
    "combined = combined.merge(data[\"ap_2010\"], on=\"DBN\", how=\"left\")\n",
    "combined = combined.merge(data[\"graduation\"], on=\"DBN\", how=\"left\")\n",
    "\n",
    "to_merge = [\"class_size\", \"demographics\", \"survey\", \"hs_directory\"]\n",
    "\n",
    "for m in to_merge:\n",
    "    combined = combined.merge(data[m], on=\"DBN\", how=\"inner\")\n",
    "\n",
    "combined = combined.fillna(combined.mean())\n",
    "combined = combined.fillna(0)"
   ]
  },
  {
   "cell_type": "markdown",
   "metadata": {},
   "source": [
    "# Add a school district column for mapping"
   ]
  },
  {
   "cell_type": "code",
   "execution_count": 8,
   "metadata": {},
   "outputs": [],
   "source": [
    "def get_first_two_chars(dbn):\n",
    "    return dbn[0:2]\n",
    "\n",
    "combined[\"school_dist\"] = combined[\"DBN\"].apply(get_first_two_chars)"
   ]
  },
  {
   "cell_type": "markdown",
   "metadata": {},
   "source": [
    "# Find correlations"
   ]
  },
  {
   "cell_type": "code",
   "execution_count": 9,
   "metadata": {},
   "outputs": [
    {
     "name": "stdout",
     "output_type": "stream",
     "text": [
      "SAT Critical Reading Avg. Score    0.986820\n",
      "SAT Math Avg. Score                0.972643\n",
      "SAT Writing Avg. Score             0.987771\n",
      "sat_score                          1.000000\n",
      "AP Test Takers                     0.523140\n",
      "                                     ...   \n",
      "priority08                              NaN\n",
      "priority09                              NaN\n",
      "priority10                              NaN\n",
      "lat                               -0.121029\n",
      "lon                               -0.132222\n",
      "Name: sat_score, Length: 67, dtype: float64\n"
     ]
    }
   ],
   "source": [
    "correlations = combined.corr()\n",
    "correlations = correlations[\"sat_score\"]\n",
    "print(correlations)"
   ]
  },
  {
   "cell_type": "markdown",
   "metadata": {},
   "source": [
    "# Plotting survey correlations\n",
    "\n",
    "We have several fields in `combined` that originated from [survey of parents,teachers and students](https://data.cityofnewyork.us/Education/2011-NYC-School-Survey/mnz3-dyi8). We will try to visualise the correlations these may have with the SAT scores."
   ]
  },
  {
   "cell_type": "code",
   "execution_count": 10,
   "metadata": {},
   "outputs": [],
   "source": [
    "# Remove DBN since it's a unique identifier, not a useful numerical value for correlation.\n",
    "survey_fields.remove(\"DBN\")"
   ]
  },
  {
   "cell_type": "code",
   "execution_count": 11,
   "metadata": {},
   "outputs": [],
   "source": [
    "import matplotlib.pyplot as plt\n",
    "%matplotlib inline"
   ]
  },
  {
   "cell_type": "code",
   "execution_count": 12,
   "metadata": {},
   "outputs": [
    {
     "data": {
      "image/png": "[encoded data removed]",
      "text/plain": [
       "<Figure size 600x400 with 1 Axes>"
      ]
     },
     "metadata": {},
     "output_type": "display_data"
    }
   ],
   "source": [
    "# Correlation bar plot\n",
    "combined.corr()['sat_score'][survey_fields].plot.bar()\n",
    "plt.show()"
   ]
  },
  {
   "cell_type": "markdown",
   "metadata": {},
   "source": [
    "SAT scores have a positive correlation with all survey fields with the exception of _Communication Score based on Parents_ which has a weak negative correlation. Generally, if the correlation value is more than 0.25 or less than -0.25, it is justified to say that there is a interesting correlation between the values of comparison. There are a few high positive correlations with a correlation value of above 0.4 as seen below:\n",
    "\n",
    "- Number of student respondents\n",
    "- Number of parent respondents\n",
    "\n",
    "The other notable correlation scores between 0.25 and 0.4 would include \n",
    "- Safety and Respect score based on teacher responses\n",
    "- Safety and Respect score based on student responses\n",
    "- Academic expectations score based on student responses\n",
    "- Communication total score\n",
    "- Number of teacher respondents\n",
    "\n",
    "\n",
    "The high correlations between number of student,parent and teacher respondent and sat scores is expected because of the correlation we discovered sat scores had with the total enrollment ( Positive Correlation).\n",
    "\n",
    "The high correlations between Safety and Respect score based on teacher and student responses and sat scores is possible because the environment would be more conduscive for learning for both teacher and students if there feel safer and are treated with more respect. \n",
    "\n",
    "The high correlation score between Communication total score and sat_score can be due to more effective learning when students and teachers are able to communicate better with one another.\n",
    "\n",
    "The interesting correlation would be Academic expectations score based on student responses because the Academic expectations score for parents and teachers do not have a high correlation value with the sat scores"
   ]
  },
  {
   "cell_type": "markdown",
   "metadata": {},
   "source": [
    "# Exploring Safety and SAT Scores\n",
    "\n",
    "From above, we have noticed that safety score sees a high positive correlation with the sat scores. Now, we shall further explore their relationship."
   ]
  },
  {
   "cell_type": "code",
   "execution_count": 13,
   "metadata": {},
   "outputs": [
    {
     "data": {
      "text/plain": [
       "Text(0.5, 0, 'Safety and Respect score based on student responses')"
      ]
     },
     "execution_count": 13,
     "metadata": {},
     "output_type": "execute_result"
    },
    {
     "data": {
      "image/png": "[encoded data removed]",
      "text/plain": [
       "<Figure size 600x400 with 1 Axes>"
      ]
     },
     "metadata": {},
     "output_type": "display_data"
    }
   ],
   "source": [
    "combined.plot.scatter('saf_s_11', 'sat_score')\n",
    "plt.xlabel('Safety and Respect score based on student responses')"
   ]
  },
  {
   "cell_type": "markdown",
   "metadata": {},
   "source": [
    "From the scatter plot between Safety and Respect score based on student responses and the sat_scores we can see a small positive relationship as the higher sat scores tend to see higher safety and respect score being given by the students."
   ]
  },
  {
   "cell_type": "code",
   "execution_count": 14,
   "metadata": {},
   "outputs": [
    {
     "data": {
      "text/html": [
       "<div>\n",
       "<style scoped>\n",
       "    .dataframe tbody tr th:only-of-type {\n",
       "        vertical-align: middle;\n",
       "    }\n",
       "\n",
       "    .dataframe tbody tr th {\n",
       "        vertical-align: top;\n",
       "    }\n",
       "\n",
       "    .dataframe thead th {\n",
       "        text-align: right;\n",
       "    }\n",
       "</style>\n",
       "<table border=\"1\" class=\"dataframe\">\n",
       "  <thead>\n",
       "    <tr style=\"text-align: right;\">\n",
       "      <th></th>\n",
       "      <th>saf_s_11</th>\n",
       "    </tr>\n",
       "    <tr>\n",
       "      <th>boro</th>\n",
       "      <th></th>\n",
       "    </tr>\n",
       "  </thead>\n",
       "  <tbody>\n",
       "    <tr>\n",
       "      <th>Bronx</th>\n",
       "      <td>6.606577</td>\n",
       "    </tr>\n",
       "    <tr>\n",
       "      <th>Brooklyn</th>\n",
       "      <td>6.370755</td>\n",
       "    </tr>\n",
       "    <tr>\n",
       "      <th>Manhattan</th>\n",
       "      <td>6.831370</td>\n",
       "    </tr>\n",
       "    <tr>\n",
       "      <th>Queens</th>\n",
       "      <td>6.721875</td>\n",
       "    </tr>\n",
       "    <tr>\n",
       "      <th>Staten Island</th>\n",
       "      <td>6.530000</td>\n",
       "    </tr>\n",
       "  </tbody>\n",
       "</table>\n",
       "</div>"
      ],
      "text/plain": [
       "               saf_s_11\n",
       "boro                   \n",
       "Bronx          6.606577\n",
       "Brooklyn       6.370755\n",
       "Manhattan      6.831370\n",
       "Queens         6.721875\n",
       "Staten Island  6.530000"
      ]
     },
     "execution_count": 14,
     "metadata": {},
     "output_type": "execute_result"
    }
   ],
   "source": [
    "# Compute Average Safety Score for each borough\n",
    "safety_scores = combined[['boro','saf_s_11']]\n",
    "grouped = safety_scores.groupby('boro')\n",
    "grouped.agg(numpy.mean)"
   ]
  },
  {
   "cell_type": "markdown",
   "metadata": {},
   "source": [
    "We can observe that Manhattan and Queens have high average safety score while Brooklyn has a comparatively low average safety score."
   ]
  },
  {
   "cell_type": "markdown",
   "metadata": {},
   "source": [
    "# Explore Race and Sat Scores\n",
    "\n",
    "Now we will move on to explore the correlation between races and respective sat scores."
   ]
  },
  {
   "cell_type": "code",
   "execution_count": 18,
   "metadata": {},
   "outputs": [
    {
     "data": {
      "image/png": "[encoded data removed]",
      "text/plain": [
       "<Figure size 600x400 with 1 Axes>"
      ]
     },
     "metadata": {},
     "output_type": "display_data"
    }
   ],
   "source": [
    "race_groups = ['white_per','asian_per','black_per','hispanic_per']\n",
    "# plot bar graph to visualise relation between race and sat score\n",
    "combined.corr()['sat_score'][race_groups].plot.bar()\n",
    "plt.xticks(rotation =0)\n",
    "plt.show()"
   ]
  },
  {
   "cell_type": "markdown",
   "metadata": {},
   "source": [
    "The graph seems to indicate that the white and asian percentage at a given school has a positive correlation with sat scores, while the black and hispanic percentage has a negative correlation. As the hispanic percentage has a relatively strong negative correlation with sat scores, we should investigate further."
   ]
  },
  {
   "cell_type": "code",
   "execution_count": 21,
   "metadata": {},
   "outputs": [
    {
     "data": {
      "text/plain": [
       "<matplotlib.axes._subplots.AxesSubplot at 0x7fcceaee6610>"
      ]
     },
     "execution_count": 21,
     "metadata": {},
     "output_type": "execute_result"
    },
    {
     "data": {
      "image/png": "[encoded data removed]",
      "text/plain": [
       "<Figure size 600x400 with 1 Axes>"
      ]
     },
     "metadata": {},
     "output_type": "display_data"
    }
   ],
   "source": [
    "combined.plot.scatter('hispanic_per','sat_score')"
   ]
  },
  {
   "cell_type": "markdown",
   "metadata": {},
   "source": [
    "From the scatter plot, we can observe that there are high sat scores for schoosl with low hispanic percentages but there are no high sat scores for schools with high hispanic percentages. This influence the correlation between hispanic percentage and sat score to be more strongly negative."
   ]
  },
  {
   "cell_type": "code",
   "execution_count": 23,
   "metadata": {},
   "outputs": [
    {
     "data": {
      "text/html": [
       "<div>\n",
       "<style scoped>\n",
       "    .dataframe tbody tr th:only-of-type {\n",
       "        vertical-align: middle;\n",
       "    }\n",
       "\n",
       "    .dataframe tbody tr th {\n",
       "        vertical-align: top;\n",
       "    }\n",
       "\n",
       "    .dataframe thead th {\n",
       "        text-align: right;\n",
       "    }\n",
       "</style>\n",
       "<table border=\"1\" class=\"dataframe\">\n",
       "  <thead>\n",
       "    <tr style=\"text-align: right;\">\n",
       "      <th></th>\n",
       "      <th>DBN</th>\n",
       "      <th>SCHOOL NAME</th>\n",
       "      <th>Num of SAT Test Takers</th>\n",
       "      <th>SAT Critical Reading Avg. Score</th>\n",
       "      <th>SAT Math Avg. Score</th>\n",
       "      <th>SAT Writing Avg. Score</th>\n",
       "      <th>sat_score</th>\n",
       "      <th>SchoolName</th>\n",
       "      <th>AP Test Takers</th>\n",
       "      <th>Total Exams Taken</th>\n",
       "      <th>...</th>\n",
       "      <th>priority05</th>\n",
       "      <th>priority06</th>\n",
       "      <th>priority07</th>\n",
       "      <th>priority08</th>\n",
       "      <th>priority09</th>\n",
       "      <th>priority10</th>\n",
       "      <th>Location 1</th>\n",
       "      <th>lat</th>\n",
       "      <th>lon</th>\n",
       "      <th>school_dist</th>\n",
       "    </tr>\n",
       "  </thead>\n",
       "  <tbody>\n",
       "    <tr>\n",
       "      <th>44</th>\n",
       "      <td>02M542</td>\n",
       "      <td>MANHATTAN BRIDGES HIGH SCHOOL</td>\n",
       "      <td>66</td>\n",
       "      <td>336.0</td>\n",
       "      <td>378.0</td>\n",
       "      <td>344.0</td>\n",
       "      <td>1058.0</td>\n",
       "      <td>Manhattan Bridges High School</td>\n",
       "      <td>67.000000</td>\n",
       "      <td>102.000000</td>\n",
       "      <td>...</td>\n",
       "      <td>0</td>\n",
       "      <td>0</td>\n",
       "      <td>0</td>\n",
       "      <td>0.0</td>\n",
       "      <td>0.0</td>\n",
       "      <td>0.0</td>\n",
       "      <td>525 West 50Th Street\\nNew York, NY 10019\\n(40....</td>\n",
       "      <td>40.765027</td>\n",
       "      <td>-73.992517</td>\n",
       "      <td>02</td>\n",
       "    </tr>\n",
       "    <tr>\n",
       "      <th>82</th>\n",
       "      <td>06M348</td>\n",
       "      <td>WASHINGTON HEIGHTS EXPEDITIONARY LEARNING SCHOOL</td>\n",
       "      <td>70</td>\n",
       "      <td>380.0</td>\n",
       "      <td>395.0</td>\n",
       "      <td>399.0</td>\n",
       "      <td>1174.0</td>\n",
       "      <td>0</td>\n",
       "      <td>129.028846</td>\n",
       "      <td>197.038462</td>\n",
       "      <td>...</td>\n",
       "      <td>Then to New York City residents</td>\n",
       "      <td>0</td>\n",
       "      <td>0</td>\n",
       "      <td>0.0</td>\n",
       "      <td>0.0</td>\n",
       "      <td>0.0</td>\n",
       "      <td>511 West 182Nd Street\\nNew York, NY 10033\\n(40...</td>\n",
       "      <td>40.848879</td>\n",
       "      <td>-73.930807</td>\n",
       "      <td>06</td>\n",
       "    </tr>\n",
       "    <tr>\n",
       "      <th>89</th>\n",
       "      <td>06M552</td>\n",
       "      <td>GREGORIO LUPERON HIGH SCHOOL FOR SCIENCE AND M...</td>\n",
       "      <td>56</td>\n",
       "      <td>339.0</td>\n",
       "      <td>349.0</td>\n",
       "      <td>326.0</td>\n",
       "      <td>1014.0</td>\n",
       "      <td>GREGORIO LUPERON HS SCI &amp; MATH</td>\n",
       "      <td>88.000000</td>\n",
       "      <td>138.000000</td>\n",
       "      <td>...</td>\n",
       "      <td>0</td>\n",
       "      <td>0</td>\n",
       "      <td>0</td>\n",
       "      <td>0.0</td>\n",
       "      <td>0.0</td>\n",
       "      <td>0.0</td>\n",
       "      <td>501 West 165Th\\nNew York, NY 10032\\n(40.838032...</td>\n",
       "      <td>40.838032</td>\n",
       "      <td>-73.938371</td>\n",
       "      <td>06</td>\n",
       "    </tr>\n",
       "    <tr>\n",
       "      <th>125</th>\n",
       "      <td>09X365</td>\n",
       "      <td>ACADEMY FOR LANGUAGE AND TECHNOLOGY</td>\n",
       "      <td>54</td>\n",
       "      <td>315.0</td>\n",
       "      <td>339.0</td>\n",
       "      <td>297.0</td>\n",
       "      <td>951.0</td>\n",
       "      <td>Academy for Language and Technology</td>\n",
       "      <td>20.000000</td>\n",
       "      <td>20.000000</td>\n",
       "      <td>...</td>\n",
       "      <td>0</td>\n",
       "      <td>0</td>\n",
       "      <td>0</td>\n",
       "      <td>0.0</td>\n",
       "      <td>0.0</td>\n",
       "      <td>0.0</td>\n",
       "      <td>1700 Macombs Road\\nBronx, NY 10453\\n(40.849102...</td>\n",
       "      <td>40.849102</td>\n",
       "      <td>-73.916088</td>\n",
       "      <td>09</td>\n",
       "    </tr>\n",
       "    <tr>\n",
       "      <th>141</th>\n",
       "      <td>10X342</td>\n",
       "      <td>INTERNATIONAL SCHOOL FOR LIBERAL ARTS</td>\n",
       "      <td>49</td>\n",
       "      <td>300.0</td>\n",
       "      <td>333.0</td>\n",
       "      <td>301.0</td>\n",
       "      <td>934.0</td>\n",
       "      <td>International School for Liberal Arts</td>\n",
       "      <td>55.000000</td>\n",
       "      <td>73.000000</td>\n",
       "      <td>...</td>\n",
       "      <td>0</td>\n",
       "      <td>0</td>\n",
       "      <td>0</td>\n",
       "      <td>0.0</td>\n",
       "      <td>0.0</td>\n",
       "      <td>0.0</td>\n",
       "      <td>2780 Reservoir Avenue\\nBronx, NY 10468\\n(40.87...</td>\n",
       "      <td>40.870377</td>\n",
       "      <td>-73.898163</td>\n",
       "      <td>10</td>\n",
       "    </tr>\n",
       "    <tr>\n",
       "      <th>176</th>\n",
       "      <td>12X388</td>\n",
       "      <td>PAN AMERICAN INTERNATIONAL HIGH SCHOOL AT MONROE</td>\n",
       "      <td>30</td>\n",
       "      <td>321.0</td>\n",
       "      <td>351.0</td>\n",
       "      <td>298.0</td>\n",
       "      <td>970.0</td>\n",
       "      <td>0</td>\n",
       "      <td>129.028846</td>\n",
       "      <td>197.038462</td>\n",
       "      <td>...</td>\n",
       "      <td>0</td>\n",
       "      <td>0</td>\n",
       "      <td>0</td>\n",
       "      <td>0.0</td>\n",
       "      <td>0.0</td>\n",
       "      <td>0.0</td>\n",
       "      <td>1300 Boynton Avenue\\nBronx, NY 10472\\n(40.8313...</td>\n",
       "      <td>40.831366</td>\n",
       "      <td>-73.878823</td>\n",
       "      <td>12</td>\n",
       "    </tr>\n",
       "    <tr>\n",
       "      <th>253</th>\n",
       "      <td>19K583</td>\n",
       "      <td>MULTICULTURAL HIGH SCHOOL</td>\n",
       "      <td>29</td>\n",
       "      <td>279.0</td>\n",
       "      <td>322.0</td>\n",
       "      <td>286.0</td>\n",
       "      <td>887.0</td>\n",
       "      <td>Multicultural High School</td>\n",
       "      <td>44.000000</td>\n",
       "      <td>44.000000</td>\n",
       "      <td>...</td>\n",
       "      <td>0</td>\n",
       "      <td>0</td>\n",
       "      <td>0</td>\n",
       "      <td>0.0</td>\n",
       "      <td>0.0</td>\n",
       "      <td>0.0</td>\n",
       "      <td>999 Jamaica Avenue\\nBrooklyn, NY 11208\\n(40.69...</td>\n",
       "      <td>40.691144</td>\n",
       "      <td>-73.868426</td>\n",
       "      <td>19</td>\n",
       "    </tr>\n",
       "    <tr>\n",
       "      <th>286</th>\n",
       "      <td>24Q296</td>\n",
       "      <td>PAN AMERICAN INTERNATIONAL HIGH SCHOOL</td>\n",
       "      <td>55</td>\n",
       "      <td>317.0</td>\n",
       "      <td>323.0</td>\n",
       "      <td>311.0</td>\n",
       "      <td>951.0</td>\n",
       "      <td>0</td>\n",
       "      <td>129.028846</td>\n",
       "      <td>197.038462</td>\n",
       "      <td>...</td>\n",
       "      <td>0</td>\n",
       "      <td>0</td>\n",
       "      <td>0</td>\n",
       "      <td>0.0</td>\n",
       "      <td>0.0</td>\n",
       "      <td>0.0</td>\n",
       "      <td>45-10 94Th Street\\nElmhurst, NY 11373\\n(40.743...</td>\n",
       "      <td>40.743303</td>\n",
       "      <td>-73.870575</td>\n",
       "      <td>24</td>\n",
       "    </tr>\n",
       "  </tbody>\n",
       "</table>\n",
       "<p>8 rows × 160 columns</p>\n",
       "</div>"
      ],
      "text/plain": [
       "        DBN                                        SCHOOL NAME  \\\n",
       "44   02M542                      MANHATTAN BRIDGES HIGH SCHOOL   \n",
       "82   06M348   WASHINGTON HEIGHTS EXPEDITIONARY LEARNING SCHOOL   \n",
       "89   06M552  GREGORIO LUPERON HIGH SCHOOL FOR SCIENCE AND M...   \n",
       "125  09X365                ACADEMY FOR LANGUAGE AND TECHNOLOGY   \n",
       "141  10X342              INTERNATIONAL SCHOOL FOR LIBERAL ARTS   \n",
       "176  12X388   PAN AMERICAN INTERNATIONAL HIGH SCHOOL AT MONROE   \n",
       "253  19K583                          MULTICULTURAL HIGH SCHOOL   \n",
       "286  24Q296             PAN AMERICAN INTERNATIONAL HIGH SCHOOL   \n",
       "\n",
       "    Num of SAT Test Takers  SAT Critical Reading Avg. Score  \\\n",
       "44                      66                            336.0   \n",
       "82                      70                            380.0   \n",
       "89                      56                            339.0   \n",
       "125                     54                            315.0   \n",
       "141                     49                            300.0   \n",
       "176                     30                            321.0   \n",
       "253                     29                            279.0   \n",
       "286                     55                            317.0   \n",
       "\n",
       "     SAT Math Avg. Score  SAT Writing Avg. Score  sat_score  \\\n",
       "44                 378.0                   344.0     1058.0   \n",
       "82                 395.0                   399.0     1174.0   \n",
       "89                 349.0                   326.0     1014.0   \n",
       "125                339.0                   297.0      951.0   \n",
       "141                333.0                   301.0      934.0   \n",
       "176                351.0                   298.0      970.0   \n",
       "253                322.0                   286.0      887.0   \n",
       "286                323.0                   311.0      951.0   \n",
       "\n",
       "                                SchoolName  AP Test Takers   \\\n",
       "44           Manhattan Bridges High School        67.000000   \n",
       "82                                       0       129.028846   \n",
       "89          GREGORIO LUPERON HS SCI & MATH        88.000000   \n",
       "125    Academy for Language and Technology        20.000000   \n",
       "141  International School for Liberal Arts        55.000000   \n",
       "176                                      0       129.028846   \n",
       "253              Multicultural High School        44.000000   \n",
       "286                                      0       129.028846   \n",
       "\n",
       "     Total Exams Taken  ...                       priority05 priority06  \\\n",
       "44          102.000000  ...                                0          0   \n",
       "82          197.038462  ...  Then to New York City residents          0   \n",
       "89          138.000000  ...                                0          0   \n",
       "125          20.000000  ...                                0          0   \n",
       "141          73.000000  ...                                0          0   \n",
       "176         197.038462  ...                                0          0   \n",
       "253          44.000000  ...                                0          0   \n",
       "286         197.038462  ...                                0          0   \n",
       "\n",
       "    priority07 priority08  priority09 priority10  \\\n",
       "44           0        0.0         0.0        0.0   \n",
       "82           0        0.0         0.0        0.0   \n",
       "89           0        0.0         0.0        0.0   \n",
       "125          0        0.0         0.0        0.0   \n",
       "141          0        0.0         0.0        0.0   \n",
       "176          0        0.0         0.0        0.0   \n",
       "253          0        0.0         0.0        0.0   \n",
       "286          0        0.0         0.0        0.0   \n",
       "\n",
       "                                            Location 1        lat        lon  \\\n",
       "44   525 West 50Th Street\\nNew York, NY 10019\\n(40....  40.765027 -73.992517   \n",
       "82   511 West 182Nd Street\\nNew York, NY 10033\\n(40...  40.848879 -73.930807   \n",
       "89   501 West 165Th\\nNew York, NY 10032\\n(40.838032...  40.838032 -73.938371   \n",
       "125  1700 Macombs Road\\nBronx, NY 10453\\n(40.849102...  40.849102 -73.916088   \n",
       "141  2780 Reservoir Avenue\\nBronx, NY 10468\\n(40.87...  40.870377 -73.898163   \n",
       "176  1300 Boynton Avenue\\nBronx, NY 10472\\n(40.8313...  40.831366 -73.878823   \n",
       "253  999 Jamaica Avenue\\nBrooklyn, NY 11208\\n(40.69...  40.691144 -73.868426   \n",
       "286  45-10 94Th Street\\nElmhurst, NY 11373\\n(40.743...  40.743303 -73.870575   \n",
       "\n",
       "    school_dist  \n",
       "44           02  \n",
       "82           06  \n",
       "89           06  \n",
       "125          09  \n",
       "141          10  \n",
       "176          12  \n",
       "253          19  \n",
       "286          24  \n",
       "\n",
       "[8 rows x 160 columns]"
      ]
     },
     "execution_count": 23,
     "metadata": {},
     "output_type": "execute_result"
    }
   ],
   "source": [
    "# Investigate schools with high hispanic percentages\n",
    "combined[combined['hispanic_per'] > 95]\n"
   ]
  },
  {
   "cell_type": "markdown",
   "metadata": {},
   "source": [
    "By investigating the schools, we can find out that these schools have a comparatively low rank in the National Rankings. These rankings are based off performances in state-required tests, graduation and how well the studens are prepared for college. Hence, this could be a contributing factor for low sat scores."
   ]
  },
  {
   "cell_type": "code",
   "execution_count": 24,
   "metadata": {},
   "outputs": [
    {
     "name": "stderr",
     "output_type": "stream",
     "text": [
      "<ipython-input-24-fe48a03ba15c>:4: UserWarning:\n",
      "\n",
      "Boolean Series key will be reindexed to match DataFrame index.\n",
      "\n"
     ]
    },
    {
     "data": {
      "text/html": [
       "<div>\n",
       "<style scoped>\n",
       "    .dataframe tbody tr th:only-of-type {\n",
       "        vertical-align: middle;\n",
       "    }\n",
       "\n",
       "    .dataframe tbody tr th {\n",
       "        vertical-align: top;\n",
       "    }\n",
       "\n",
       "    .dataframe thead th {\n",
       "        text-align: right;\n",
       "    }\n",
       "</style>\n",
       "<table border=\"1\" class=\"dataframe\">\n",
       "  <thead>\n",
       "    <tr style=\"text-align: right;\">\n",
       "      <th></th>\n",
       "      <th>DBN</th>\n",
       "      <th>SCHOOL NAME</th>\n",
       "      <th>Num of SAT Test Takers</th>\n",
       "      <th>SAT Critical Reading Avg. Score</th>\n",
       "      <th>SAT Math Avg. Score</th>\n",
       "      <th>SAT Writing Avg. Score</th>\n",
       "      <th>sat_score</th>\n",
       "      <th>SchoolName</th>\n",
       "      <th>AP Test Takers</th>\n",
       "      <th>Total Exams Taken</th>\n",
       "      <th>...</th>\n",
       "      <th>priority05</th>\n",
       "      <th>priority06</th>\n",
       "      <th>priority07</th>\n",
       "      <th>priority08</th>\n",
       "      <th>priority09</th>\n",
       "      <th>priority10</th>\n",
       "      <th>Location 1</th>\n",
       "      <th>lat</th>\n",
       "      <th>lon</th>\n",
       "      <th>school_dist</th>\n",
       "    </tr>\n",
       "  </thead>\n",
       "  <tbody>\n",
       "    <tr>\n",
       "      <th>37</th>\n",
       "      <td>02M475</td>\n",
       "      <td>STUYVESANT HIGH SCHOOL</td>\n",
       "      <td>832</td>\n",
       "      <td>679.0</td>\n",
       "      <td>735.0</td>\n",
       "      <td>682.0</td>\n",
       "      <td>2096.0</td>\n",
       "      <td>STUYVESANT HS</td>\n",
       "      <td>1510.0</td>\n",
       "      <td>2819.0</td>\n",
       "      <td>...</td>\n",
       "      <td>0</td>\n",
       "      <td>0</td>\n",
       "      <td>0</td>\n",
       "      <td>0.0</td>\n",
       "      <td>0.0</td>\n",
       "      <td>0.0</td>\n",
       "      <td>345 Chambers Street\\nNew York, NY 10282\\n(40.7...</td>\n",
       "      <td>40.717746</td>\n",
       "      <td>-74.014049</td>\n",
       "      <td>02</td>\n",
       "    </tr>\n",
       "    <tr>\n",
       "      <th>151</th>\n",
       "      <td>10X445</td>\n",
       "      <td>BRONX HIGH SCHOOL OF SCIENCE</td>\n",
       "      <td>731</td>\n",
       "      <td>632.0</td>\n",
       "      <td>688.0</td>\n",
       "      <td>649.0</td>\n",
       "      <td>1969.0</td>\n",
       "      <td>BRONX HS OF SCIENCE</td>\n",
       "      <td>1190.0</td>\n",
       "      <td>2435.0</td>\n",
       "      <td>...</td>\n",
       "      <td>0</td>\n",
       "      <td>0</td>\n",
       "      <td>0</td>\n",
       "      <td>0.0</td>\n",
       "      <td>0.0</td>\n",
       "      <td>0.0</td>\n",
       "      <td>75 West 205 Street\\nBronx, NY 10468\\n(40.87705...</td>\n",
       "      <td>40.877056</td>\n",
       "      <td>-73.889780</td>\n",
       "      <td>10</td>\n",
       "    </tr>\n",
       "    <tr>\n",
       "      <th>187</th>\n",
       "      <td>13K430</td>\n",
       "      <td>BROOKLYN TECHNICAL HIGH SCHOOL</td>\n",
       "      <td>1277</td>\n",
       "      <td>587.0</td>\n",
       "      <td>659.0</td>\n",
       "      <td>587.0</td>\n",
       "      <td>1833.0</td>\n",
       "      <td>BROOKLYN TECHNICAL HS</td>\n",
       "      <td>2117.0</td>\n",
       "      <td>3692.0</td>\n",
       "      <td>...</td>\n",
       "      <td>0</td>\n",
       "      <td>0</td>\n",
       "      <td>0</td>\n",
       "      <td>0.0</td>\n",
       "      <td>0.0</td>\n",
       "      <td>0.0</td>\n",
       "      <td>29 Ft Greene Place\\nBrooklyn, NY 11217\\n(40.68...</td>\n",
       "      <td>40.688107</td>\n",
       "      <td>-73.976745</td>\n",
       "      <td>13</td>\n",
       "    </tr>\n",
       "    <tr>\n",
       "      <th>327</th>\n",
       "      <td>28Q687</td>\n",
       "      <td>QUEENS HIGH SCHOOL FOR THE SCIENCES AT YORK CO...</td>\n",
       "      <td>121</td>\n",
       "      <td>612.0</td>\n",
       "      <td>660.0</td>\n",
       "      <td>596.0</td>\n",
       "      <td>1868.0</td>\n",
       "      <td>Queens HS for Science York Colllege</td>\n",
       "      <td>215.0</td>\n",
       "      <td>338.0</td>\n",
       "      <td>...</td>\n",
       "      <td>0</td>\n",
       "      <td>0</td>\n",
       "      <td>0</td>\n",
       "      <td>0.0</td>\n",
       "      <td>0.0</td>\n",
       "      <td>0.0</td>\n",
       "      <td>94-50 159 Street\\nJamaica, NY 11433\\n(40.70099...</td>\n",
       "      <td>40.700999</td>\n",
       "      <td>-73.798154</td>\n",
       "      <td>28</td>\n",
       "    </tr>\n",
       "    <tr>\n",
       "      <th>356</th>\n",
       "      <td>31R605</td>\n",
       "      <td>STATEN ISLAND TECHNICAL HIGH SCHOOL</td>\n",
       "      <td>227</td>\n",
       "      <td>635.0</td>\n",
       "      <td>682.0</td>\n",
       "      <td>636.0</td>\n",
       "      <td>1953.0</td>\n",
       "      <td>STATEN ISLAND TECHNICAL HS</td>\n",
       "      <td>528.0</td>\n",
       "      <td>905.0</td>\n",
       "      <td>...</td>\n",
       "      <td>0</td>\n",
       "      <td>0</td>\n",
       "      <td>0</td>\n",
       "      <td>0.0</td>\n",
       "      <td>0.0</td>\n",
       "      <td>0.0</td>\n",
       "      <td>485 Clawson Street\\nStaten Island, NY 10306\\n(...</td>\n",
       "      <td>40.567913</td>\n",
       "      <td>-74.115362</td>\n",
       "      <td>31</td>\n",
       "    </tr>\n",
       "  </tbody>\n",
       "</table>\n",
       "<p>5 rows × 160 columns</p>\n",
       "</div>"
      ],
      "text/plain": [
       "        DBN                                        SCHOOL NAME  \\\n",
       "37   02M475                             STUYVESANT HIGH SCHOOL   \n",
       "151  10X445                       BRONX HIGH SCHOOL OF SCIENCE   \n",
       "187  13K430                     BROOKLYN TECHNICAL HIGH SCHOOL   \n",
       "327  28Q687  QUEENS HIGH SCHOOL FOR THE SCIENCES AT YORK CO...   \n",
       "356  31R605                STATEN ISLAND TECHNICAL HIGH SCHOOL   \n",
       "\n",
       "    Num of SAT Test Takers  SAT Critical Reading Avg. Score  \\\n",
       "37                     832                            679.0   \n",
       "151                    731                            632.0   \n",
       "187                   1277                            587.0   \n",
       "327                    121                            612.0   \n",
       "356                    227                            635.0   \n",
       "\n",
       "     SAT Math Avg. Score  SAT Writing Avg. Score  sat_score  \\\n",
       "37                 735.0                   682.0     2096.0   \n",
       "151                688.0                   649.0     1969.0   \n",
       "187                659.0                   587.0     1833.0   \n",
       "327                660.0                   596.0     1868.0   \n",
       "356                682.0                   636.0     1953.0   \n",
       "\n",
       "                              SchoolName  AP Test Takers   Total Exams Taken  \\\n",
       "37                         STUYVESANT HS           1510.0             2819.0   \n",
       "151                  BRONX HS OF SCIENCE           1190.0             2435.0   \n",
       "187                BROOKLYN TECHNICAL HS           2117.0             3692.0   \n",
       "327  Queens HS for Science York Colllege            215.0              338.0   \n",
       "356           STATEN ISLAND TECHNICAL HS            528.0              905.0   \n",
       "\n",
       "     ...  priority05 priority06 priority07 priority08  priority09 priority10  \\\n",
       "37   ...           0          0          0        0.0         0.0        0.0   \n",
       "151  ...           0          0          0        0.0         0.0        0.0   \n",
       "187  ...           0          0          0        0.0         0.0        0.0   \n",
       "327  ...           0          0          0        0.0         0.0        0.0   \n",
       "356  ...           0          0          0        0.0         0.0        0.0   \n",
       "\n",
       "                                            Location 1        lat        lon  \\\n",
       "37   345 Chambers Street\\nNew York, NY 10282\\n(40.7...  40.717746 -74.014049   \n",
       "151  75 West 205 Street\\nBronx, NY 10468\\n(40.87705...  40.877056 -73.889780   \n",
       "187  29 Ft Greene Place\\nBrooklyn, NY 11217\\n(40.68...  40.688107 -73.976745   \n",
       "327  94-50 159 Street\\nJamaica, NY 11433\\n(40.70099...  40.700999 -73.798154   \n",
       "356  485 Clawson Street\\nStaten Island, NY 10306\\n(...  40.567913 -74.115362   \n",
       "\n",
       "    school_dist  \n",
       "37           02  \n",
       "151          10  \n",
       "187          13  \n",
       "327          28  \n",
       "356          31  \n",
       "\n",
       "[5 rows x 160 columns]"
      ]
     },
     "execution_count": 24,
     "metadata": {},
     "output_type": "execute_result"
    }
   ],
   "source": [
    "# Investigate Schools with low hispanic percentage and high average sat score\n",
    "low_hispanic = combined['hispanic_per'] < 10\n",
    "high_sat = combined['sat_score'] > 1800\n",
    "combined[low_hispanic][high_sat]"
   ]
  },
  {
   "cell_type": "markdown",
   "metadata": {},
   "source": [
    "The schools with high average sat scores but with a low hispanic percentage are all Specialized High Schools in which students are required to take the Specialized High School Admission Test in order to be considered for enrolment. As they are elite institutions with students handpicked based on their aptitutes, this could explain why the average sat score of the school is high."
   ]
  },
  {
   "cell_type": "markdown",
   "metadata": {},
   "source": [
    "# Exploring Gender and SAT Scores\n",
    "\n",
    "We will move on to investigate if there is a relationship between genders and sat scores."
   ]
  },
  {
   "cell_type": "code",
   "execution_count": 26,
   "metadata": {},
   "outputs": [
    {
     "data": {
      "image/png": "[encoded data removed]",
      "text/plain": [
       "<Figure size 600x400 with 1 Axes>"
      ]
     },
     "metadata": {},
     "output_type": "display_data"
    }
   ],
   "source": [
    "# Create Bar plot to show correlation between genders and sat score\n",
    "genders = ['male_per','female_per']\n",
    "combined.corr()['sat_score'][genders].plot.bar()\n",
    "plt.xticks(rotation = 0)\n",
    "plt.show()"
   ]
  },
  {
   "cell_type": "markdown",
   "metadata": {},
   "source": [
    "From the graph above, we can see that there is a negative correlation between the male percentage in the school and a positive correlation between the female percentage in the school, both with the sat scores. Though, the correlation is not very strong, both being ~0.10, it is still good to investigate if the SATs are gender biased."
   ]
  },
  {
   "cell_type": "code",
   "execution_count": 27,
   "metadata": {},
   "outputs": [
    {
     "data": {
      "image/png": "[encoded data removed]",
      "text/plain": [
       "<Figure size 600x400 with 1 Axes>"
      ]
     },
     "metadata": {},
     "output_type": "display_data"
    }
   ],
   "source": [
    "# Investigate Schools with high SAT scores and high female percentage\n",
    "combined.plot.scatter('female_per','sat_score')\n",
    "plt.show()"
   ]
  },
  {
   "cell_type": "markdown",
   "metadata": {},
   "source": [
    "The scatter plot above does not hint at any obvious relationship between the female percentage and high sat scores. We should investigate further."
   ]
  },
  {
   "cell_type": "code",
   "execution_count": 30,
   "metadata": {},
   "outputs": [
    {
     "name": "stderr",
     "output_type": "stream",
     "text": [
      "<ipython-input-30-99aaa816fc85>:4: UserWarning:\n",
      "\n",
      "Boolean Series key will be reindexed to match DataFrame index.\n",
      "\n"
     ]
    },
    {
     "data": {
      "text/html": [
       "<div>\n",
       "<style scoped>\n",
       "    .dataframe tbody tr th:only-of-type {\n",
       "        vertical-align: middle;\n",
       "    }\n",
       "\n",
       "    .dataframe tbody tr th {\n",
       "        vertical-align: top;\n",
       "    }\n",
       "\n",
       "    .dataframe thead th {\n",
       "        text-align: right;\n",
       "    }\n",
       "</style>\n",
       "<table border=\"1\" class=\"dataframe\">\n",
       "  <thead>\n",
       "    <tr style=\"text-align: right;\">\n",
       "      <th></th>\n",
       "      <th>DBN</th>\n",
       "      <th>SCHOOL NAME</th>\n",
       "      <th>Num of SAT Test Takers</th>\n",
       "      <th>SAT Critical Reading Avg. Score</th>\n",
       "      <th>SAT Math Avg. Score</th>\n",
       "      <th>SAT Writing Avg. Score</th>\n",
       "      <th>sat_score</th>\n",
       "      <th>SchoolName</th>\n",
       "      <th>AP Test Takers</th>\n",
       "      <th>Total Exams Taken</th>\n",
       "      <th>...</th>\n",
       "      <th>priority05</th>\n",
       "      <th>priority06</th>\n",
       "      <th>priority07</th>\n",
       "      <th>priority08</th>\n",
       "      <th>priority09</th>\n",
       "      <th>priority10</th>\n",
       "      <th>Location 1</th>\n",
       "      <th>lat</th>\n",
       "      <th>lon</th>\n",
       "      <th>school_dist</th>\n",
       "    </tr>\n",
       "  </thead>\n",
       "  <tbody>\n",
       "    <tr>\n",
       "      <th>5</th>\n",
       "      <td>01M696</td>\n",
       "      <td>BARD HIGH SCHOOL EARLY COLLEGE</td>\n",
       "      <td>130</td>\n",
       "      <td>624.0</td>\n",
       "      <td>604.0</td>\n",
       "      <td>628.0</td>\n",
       "      <td>1856.0</td>\n",
       "      <td>0</td>\n",
       "      <td>129.028846</td>\n",
       "      <td>197.038462</td>\n",
       "      <td>...</td>\n",
       "      <td>0</td>\n",
       "      <td>0</td>\n",
       "      <td>0</td>\n",
       "      <td>0.0</td>\n",
       "      <td>0.0</td>\n",
       "      <td>0.0</td>\n",
       "      <td>525 East Houston Street\\nNew York, NY 10002\\n(...</td>\n",
       "      <td>40.718962</td>\n",
       "      <td>-73.976066</td>\n",
       "      <td>01</td>\n",
       "    </tr>\n",
       "    <tr>\n",
       "      <th>26</th>\n",
       "      <td>02M416</td>\n",
       "      <td>ELEANOR ROOSEVELT HIGH SCHOOL</td>\n",
       "      <td>127</td>\n",
       "      <td>572.0</td>\n",
       "      <td>594.0</td>\n",
       "      <td>592.0</td>\n",
       "      <td>1758.0</td>\n",
       "      <td>Eleanor Roosevelt High School</td>\n",
       "      <td>155.000000</td>\n",
       "      <td>235.000000</td>\n",
       "      <td>...</td>\n",
       "      <td>0</td>\n",
       "      <td>0</td>\n",
       "      <td>0</td>\n",
       "      <td>0.0</td>\n",
       "      <td>0.0</td>\n",
       "      <td>0.0</td>\n",
       "      <td>411 East 76 Street\\nNew York, NY 10021\\n(40.77...</td>\n",
       "      <td>40.770116</td>\n",
       "      <td>-73.953379</td>\n",
       "      <td>02</td>\n",
       "    </tr>\n",
       "    <tr>\n",
       "      <th>60</th>\n",
       "      <td>03M479</td>\n",
       "      <td>BEACON HIGH SCHOOL</td>\n",
       "      <td>261</td>\n",
       "      <td>577.0</td>\n",
       "      <td>575.0</td>\n",
       "      <td>592.0</td>\n",
       "      <td>1744.0</td>\n",
       "      <td>BEACON SCHOOL</td>\n",
       "      <td>166.000000</td>\n",
       "      <td>197.000000</td>\n",
       "      <td>...</td>\n",
       "      <td>0</td>\n",
       "      <td>0</td>\n",
       "      <td>0</td>\n",
       "      <td>0.0</td>\n",
       "      <td>0.0</td>\n",
       "      <td>0.0</td>\n",
       "      <td>227-243 West 61St Street\\nNew York, NY 10023\\n...</td>\n",
       "      <td>40.772158</td>\n",
       "      <td>-73.987797</td>\n",
       "      <td>03</td>\n",
       "    </tr>\n",
       "    <tr>\n",
       "      <th>61</th>\n",
       "      <td>03M485</td>\n",
       "      <td>FIORELLO H. LAGUARDIA HIGH SCHOOL OF MUSIC &amp; A...</td>\n",
       "      <td>531</td>\n",
       "      <td>566.0</td>\n",
       "      <td>564.0</td>\n",
       "      <td>577.0</td>\n",
       "      <td>1707.0</td>\n",
       "      <td>FIORELLO H.LAGUARDIA HS</td>\n",
       "      <td>691.000000</td>\n",
       "      <td>1236.000000</td>\n",
       "      <td>...</td>\n",
       "      <td>0</td>\n",
       "      <td>0</td>\n",
       "      <td>0</td>\n",
       "      <td>0.0</td>\n",
       "      <td>0.0</td>\n",
       "      <td>0.0</td>\n",
       "      <td>100 Amsterdam Avenue\\nNew York, NY 10023\\n(40....</td>\n",
       "      <td>40.773671</td>\n",
       "      <td>-73.985269</td>\n",
       "      <td>03</td>\n",
       "    </tr>\n",
       "    <tr>\n",
       "      <th>302</th>\n",
       "      <td>25Q525</td>\n",
       "      <td>TOWNSEND HARRIS HIGH SCHOOL</td>\n",
       "      <td>278</td>\n",
       "      <td>621.0</td>\n",
       "      <td>651.0</td>\n",
       "      <td>638.0</td>\n",
       "      <td>1910.0</td>\n",
       "      <td>TOWNSEND HARRIS HS</td>\n",
       "      <td>613.000000</td>\n",
       "      <td>796.000000</td>\n",
       "      <td>...</td>\n",
       "      <td>0</td>\n",
       "      <td>0</td>\n",
       "      <td>0</td>\n",
       "      <td>0.0</td>\n",
       "      <td>0.0</td>\n",
       "      <td>0.0</td>\n",
       "      <td>149-11 Melbourne Avenue\\nFlushing, NY 11367\\n(...</td>\n",
       "      <td>40.734408</td>\n",
       "      <td>-73.821417</td>\n",
       "      <td>25</td>\n",
       "    </tr>\n",
       "  </tbody>\n",
       "</table>\n",
       "<p>5 rows × 160 columns</p>\n",
       "</div>"
      ],
      "text/plain": [
       "        DBN                                        SCHOOL NAME  \\\n",
       "5    01M696                     BARD HIGH SCHOOL EARLY COLLEGE   \n",
       "26   02M416                      ELEANOR ROOSEVELT HIGH SCHOOL   \n",
       "60   03M479                                 BEACON HIGH SCHOOL   \n",
       "61   03M485  FIORELLO H. LAGUARDIA HIGH SCHOOL OF MUSIC & A...   \n",
       "302  25Q525                        TOWNSEND HARRIS HIGH SCHOOL   \n",
       "\n",
       "    Num of SAT Test Takers  SAT Critical Reading Avg. Score  \\\n",
       "5                      130                            624.0   \n",
       "26                     127                            572.0   \n",
       "60                     261                            577.0   \n",
       "61                     531                            566.0   \n",
       "302                    278                            621.0   \n",
       "\n",
       "     SAT Math Avg. Score  SAT Writing Avg. Score  sat_score  \\\n",
       "5                  604.0                   628.0     1856.0   \n",
       "26                 594.0                   592.0     1758.0   \n",
       "60                 575.0                   592.0     1744.0   \n",
       "61                 564.0                   577.0     1707.0   \n",
       "302                651.0                   638.0     1910.0   \n",
       "\n",
       "                        SchoolName  AP Test Takers   Total Exams Taken  ...  \\\n",
       "5                                0       129.028846         197.038462  ...   \n",
       "26   Eleanor Roosevelt High School       155.000000         235.000000  ...   \n",
       "60                   BEACON SCHOOL       166.000000         197.000000  ...   \n",
       "61         FIORELLO H.LAGUARDIA HS       691.000000        1236.000000  ...   \n",
       "302             TOWNSEND HARRIS HS       613.000000         796.000000  ...   \n",
       "\n",
       "     priority05 priority06 priority07 priority08  priority09 priority10  \\\n",
       "5             0          0          0        0.0         0.0        0.0   \n",
       "26            0          0          0        0.0         0.0        0.0   \n",
       "60            0          0          0        0.0         0.0        0.0   \n",
       "61            0          0          0        0.0         0.0        0.0   \n",
       "302           0          0          0        0.0         0.0        0.0   \n",
       "\n",
       "                                            Location 1        lat        lon  \\\n",
       "5    525 East Houston Street\\nNew York, NY 10002\\n(...  40.718962 -73.976066   \n",
       "26   411 East 76 Street\\nNew York, NY 10021\\n(40.77...  40.770116 -73.953379   \n",
       "60   227-243 West 61St Street\\nNew York, NY 10023\\n...  40.772158 -73.987797   \n",
       "61   100 Amsterdam Avenue\\nNew York, NY 10023\\n(40....  40.773671 -73.985269   \n",
       "302  149-11 Melbourne Avenue\\nFlushing, NY 11367\\n(...  40.734408 -73.821417   \n",
       "\n",
       "    school_dist  \n",
       "5            01  \n",
       "26           02  \n",
       "60           03  \n",
       "61           03  \n",
       "302          25  \n",
       "\n",
       "[5 rows x 160 columns]"
      ]
     },
     "execution_count": 30,
     "metadata": {},
     "output_type": "execute_result"
    }
   ],
   "source": [
    "# Investigate Schools with high female percentage and high average SAT scores\n",
    "high_female = combined['female_per'] > 60\n",
    "high_sat_score = combined['sat_score'] > 1700\n",
    "combined[high_female][high_sat_score]"
   ]
  },
  {
   "cell_type": "markdown",
   "metadata": {},
   "source": [
    "Similarly, it seems like the schools in which have a high female percentage and high average SAT scores are schools that have high standards for student enrolment. Some of these schools are also more focused on arts, which could explain why the female percentage in the school is higher."
   ]
  },
  {
   "cell_type": "markdown",
   "metadata": {},
   "source": [
    "# Exploring AP Scores vs SAT Scores\n",
    "\n",
    "In the United States, high school students take [Advanced Placement](https://en.wikipedia.org/wiki/Advanced_Placement_exams)(AP) exams to earn college credit.\n",
    "\n",
    "It is logical that the students at a school who took AP exams would be highly correlated with the school's SAT scores, hence we exploring this relationship further. "
   ]
  },
  {
   "cell_type": "code",
   "execution_count": 31,
   "metadata": {},
   "outputs": [],
   "source": [
    "# Get percentage of students in a school who took AP exam\n",
    "combined['ap_per'] = combined['AP Test Takers ']/combined['total_enrollment']"
   ]
  },
  {
   "cell_type": "code",
   "execution_count": 32,
   "metadata": {},
   "outputs": [
    {
     "data": {
      "text/plain": [
       "<matplotlib.axes._subplots.AxesSubplot at 0x7fccea3ee730>"
      ]
     },
     "execution_count": 32,
     "metadata": {},
     "output_type": "execute_result"
    },
    {
     "data": {
      "image/png": "[encoded data removed]",
      "text/plain": [
       "<Figure size 600x400 with 1 Axes>"
      ]
     },
     "metadata": {},
     "output_type": "display_data"
    }
   ],
   "source": [
    "# Form scatter plot betwen ap scores and sat scores\n",
    "combined.plot.scatter('ap_per','sat_score')"
   ]
  },
  {
   "cell_type": "markdown",
   "metadata": {},
   "source": [
    "The scatter plot does hint at a lower average sat score when the school has a lower percentage in the AP Test particpation. Therefore, the sitting for the AP test may contribute towards a higher sat score."
   ]
  }
 ],
 "metadata": {
  "kernelspec": {
   "display_name": "Python 3",
   "language": "python",
   "name": "python3"
  },
  "language_info": {
   "codemirror_mode": {
    "name": "ipython",
    "version": 3
   },
   "file_extension": ".py",
   "mimetype": "text/x-python",
   "name": "python",
   "nbconvert_exporter": "python",
   "pygments_lexer": "ipython3",
   "version": "3.8.2"
  }
 },
 "nbformat": 4,
 "nbformat_minor": 2
}
